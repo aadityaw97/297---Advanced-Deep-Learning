{
  "nbformat": 4,
  "nbformat_minor": 0,
  "metadata": {
    "colab": {
      "name": "noisy_student.ipynb",
      "provenance": []
    },
    "kernelspec": {
      "name": "python3",
      "display_name": "Python 3"
    }
  },
  "cells": [
    {
      "cell_type": "markdown",
      "metadata": {
        "id": "sLjCS0nc2c-w"
      },
      "source": [
        "Import all the dependencies"
      ]
    },
    {
      "cell_type": "code",
      "metadata": {
        "colab": {
          "base_uri": "https://localhost:8080/"
        },
        "id": "2qCOYWQ-bmoQ",
        "outputId": "2eb2c32f-fcb1-40ae-bff7-99f63bf94949"
      },
      "source": [
        "#Import dependencies\r\n",
        "import tensorflow as tf\r\n",
        "from tensorflow.keras import models\r\n",
        "from tensorflow.keras import layers\r\n",
        "from tensorflow.keras.layers import Input, Dense\r\n",
        "from tensorflow import nn\r\n",
        "from tensorflow.compat.v1.losses import softmax_cross_entropy\r\n",
        "from tensorflow.keras.metrics import *\r\n",
        "from tensorflow.keras.optimizers import *\r\n",
        "tf.random.set_seed(666)\r\n",
        "#Load Data\r\n",
        "(X_train, y_train), (X_test, y_test) = tf.keras.datasets.fashion_mnist.load_data()\r\n",
        "X_train = X_train/255.\r\n",
        "X_test = X_test/255.\r\n",
        "#Reshape Data\r\n",
        "X_train = X_train.astype(\"float32\").reshape(-1, 28, 28, 1)\r\n",
        "X_test = X_test.astype(\"float32\").reshape(-1, 28, 28, 1)"
      ],
      "execution_count": 1,
      "outputs": [
        {
          "output_type": "stream",
          "text": [
            "Downloading data from https://storage.googleapis.com/tensorflow/tf-keras-datasets/train-labels-idx1-ubyte.gz\n",
            "32768/29515 [=================================] - 0s 0us/step\n",
            "Downloading data from https://storage.googleapis.com/tensorflow/tf-keras-datasets/train-images-idx3-ubyte.gz\n",
            "26427392/26421880 [==============================] - 1s 0us/step\n",
            "Downloading data from https://storage.googleapis.com/tensorflow/tf-keras-datasets/t10k-labels-idx1-ubyte.gz\n",
            "8192/5148 [===============================================] - 0s 0us/step\n",
            "Downloading data from https://storage.googleapis.com/tensorflow/tf-keras-datasets/t10k-images-idx3-ubyte.gz\n",
            "4423680/4422102 [==============================] - 0s 0us/step\n"
          ],
          "name": "stdout"
        }
      ]
    },
    {
      "cell_type": "markdown",
      "metadata": {
        "id": "vQoAklLamjLz"
      },
      "source": [
        "Utility for teacher model"
      ]
    },
    {
      "cell_type": "code",
      "metadata": {
        "id": "D5JuXlDJmitG"
      },
      "source": [
        "def build_teacher_model():\r\n",
        "    model = models.Sequential()\r\n",
        "    model.add(layers.Conv2D(16, (5, 5), activation=\"relu\", input_shape=(28, 28, 1)))\r\n",
        "    model.add(layers.MaxPooling2D(pool_size=(2, 2)))\r\n",
        "    model.add(layers.Conv2D(32, (5, 5), activation=\"relu\"))\r\n",
        "    model.add(layers.MaxPooling2D(pool_size=(2, 2)))\r\n",
        "    model.add(layers.Dropout(0.2))\r\n",
        "    model.add(layers.Flatten())\r\n",
        "    model.add(layers.Dense(128, activation=\"relu\"))\r\n",
        "    model.add(layers.Dense(10))\r\n",
        "    loss_func = tf.keras.losses.SparseCategoricalCrossentropy(from_logits=True)\r\n",
        "    optimizer = tf.keras.optimizers.Adam()\r\n",
        "    model.compile(loss=loss_func, optimizer=optimizer, metrics=[\"accuracy\"])\r\n",
        "    return model"
      ],
      "execution_count": 2,
      "outputs": []
    },
    {
      "cell_type": "markdown",
      "metadata": {
        "id": "FhWsXVrNnTB4"
      },
      "source": [
        "Train model"
      ]
    },
    {
      "cell_type": "code",
      "metadata": {
        "colab": {
          "base_uri": "https://localhost:8080/"
        },
        "id": "c1me6Q6FnU34",
        "outputId": "bd295af1-be12-4cfa-cd09-062323bc1ee0"
      },
      "source": [
        "train_dataset = tf.data.Dataset.from_tensor_slices((X_train, y_train)).shuffle(100).batch(64)\r\n",
        "test_dataset = tf.data.Dataset.from_tensor_slices((X_test, y_test)).batch(64)\r\n",
        "teacher_model = build_teacher_model()\r\n",
        "teacher_model.summary()\r\n",
        "teacher_model.fit(train_dataset, validation_data=test_dataset,epochs=20)"
      ],
      "execution_count": 3,
      "outputs": [
        {
          "output_type": "stream",
          "text": [
            "Model: \"sequential\"\n",
            "_________________________________________________________________\n",
            "Layer (type)                 Output Shape              Param #   \n",
            "=================================================================\n",
            "conv2d (Conv2D)              (None, 24, 24, 16)        416       \n",
            "_________________________________________________________________\n",
            "max_pooling2d (MaxPooling2D) (None, 12, 12, 16)        0         \n",
            "_________________________________________________________________\n",
            "conv2d_1 (Conv2D)            (None, 8, 8, 32)          12832     \n",
            "_________________________________________________________________\n",
            "max_pooling2d_1 (MaxPooling2 (None, 4, 4, 32)          0         \n",
            "_________________________________________________________________\n",
            "dropout (Dropout)            (None, 4, 4, 32)          0         \n",
            "_________________________________________________________________\n",
            "flatten (Flatten)            (None, 512)               0         \n",
            "_________________________________________________________________\n",
            "dense (Dense)                (None, 128)               65664     \n",
            "_________________________________________________________________\n",
            "dense_1 (Dense)              (None, 10)                1290      \n",
            "=================================================================\n",
            "Total params: 80,202\n",
            "Trainable params: 80,202\n",
            "Non-trainable params: 0\n",
            "_________________________________________________________________\n",
            "Epoch 1/20\n",
            "938/938 [==============================] - 33s 34ms/step - loss: 0.8046 - accuracy: 0.7149 - val_loss: 0.4348 - val_accuracy: 0.8405\n",
            "Epoch 2/20\n",
            "938/938 [==============================] - 32s 34ms/step - loss: 0.4004 - accuracy: 0.8552 - val_loss: 0.3855 - val_accuracy: 0.8535\n",
            "Epoch 3/20\n",
            "938/938 [==============================] - 32s 34ms/step - loss: 0.3407 - accuracy: 0.8746 - val_loss: 0.3385 - val_accuracy: 0.8752\n",
            "Epoch 4/20\n",
            "938/938 [==============================] - 32s 34ms/step - loss: 0.3079 - accuracy: 0.8869 - val_loss: 0.3327 - val_accuracy: 0.8788\n",
            "Epoch 5/20\n",
            "938/938 [==============================] - 32s 34ms/step - loss: 0.2911 - accuracy: 0.8934 - val_loss: 0.3067 - val_accuracy: 0.8884\n",
            "Epoch 6/20\n",
            "938/938 [==============================] - 32s 34ms/step - loss: 0.2715 - accuracy: 0.8987 - val_loss: 0.2920 - val_accuracy: 0.8922\n",
            "Epoch 7/20\n",
            "938/938 [==============================] - 32s 34ms/step - loss: 0.2546 - accuracy: 0.9040 - val_loss: 0.2748 - val_accuracy: 0.8993\n",
            "Epoch 8/20\n",
            "938/938 [==============================] - 32s 34ms/step - loss: 0.2426 - accuracy: 0.9085 - val_loss: 0.2803 - val_accuracy: 0.8969\n",
            "Epoch 9/20\n",
            "938/938 [==============================] - 32s 34ms/step - loss: 0.2342 - accuracy: 0.9110 - val_loss: 0.2710 - val_accuracy: 0.8994\n",
            "Epoch 10/20\n",
            "938/938 [==============================] - 32s 34ms/step - loss: 0.2229 - accuracy: 0.9144 - val_loss: 0.2682 - val_accuracy: 0.9044\n",
            "Epoch 11/20\n",
            "938/938 [==============================] - 32s 34ms/step - loss: 0.2113 - accuracy: 0.9211 - val_loss: 0.2694 - val_accuracy: 0.9039\n",
            "Epoch 12/20\n",
            "938/938 [==============================] - 32s 34ms/step - loss: 0.2077 - accuracy: 0.9213 - val_loss: 0.2629 - val_accuracy: 0.9067\n",
            "Epoch 13/20\n",
            "938/938 [==============================] - 32s 34ms/step - loss: 0.1971 - accuracy: 0.9247 - val_loss: 0.2626 - val_accuracy: 0.9075\n",
            "Epoch 14/20\n",
            "938/938 [==============================] - 32s 34ms/step - loss: 0.1880 - accuracy: 0.9284 - val_loss: 0.2541 - val_accuracy: 0.9096\n",
            "Epoch 15/20\n",
            "938/938 [==============================] - 31s 34ms/step - loss: 0.1851 - accuracy: 0.9300 - val_loss: 0.2712 - val_accuracy: 0.9052\n",
            "Epoch 16/20\n",
            "938/938 [==============================] - 32s 34ms/step - loss: 0.1793 - accuracy: 0.9320 - val_loss: 0.2715 - val_accuracy: 0.9054\n",
            "Epoch 17/20\n",
            "938/938 [==============================] - 38s 40ms/step - loss: 0.1713 - accuracy: 0.9349 - val_loss: 0.2651 - val_accuracy: 0.9061\n",
            "Epoch 18/20\n",
            "938/938 [==============================] - 32s 34ms/step - loss: 0.1641 - accuracy: 0.9374 - val_loss: 0.2787 - val_accuracy: 0.9046\n",
            "Epoch 19/20\n",
            "938/938 [==============================] - 32s 34ms/step - loss: 0.1598 - accuracy: 0.9391 - val_loss: 0.2803 - val_accuracy: 0.9097\n",
            "Epoch 20/20\n",
            "938/938 [==============================] - 32s 34ms/step - loss: 0.1565 - accuracy: 0.9392 - val_loss: 0.2735 - val_accuracy: 0.9091\n"
          ],
          "name": "stdout"
        },
        {
          "output_type": "execute_result",
          "data": {
            "text/plain": [
              "<tensorflow.python.keras.callbacks.History at 0x7f8279f01a90>"
            ]
          },
          "metadata": {
            "tags": []
          },
          "execution_count": 3
        }
      ]
    },
    {
      "cell_type": "markdown",
      "metadata": {
        "id": "J7qWHCbInbaq"
      },
      "source": [
        "Evaluation"
      ]
    },
    {
      "cell_type": "code",
      "metadata": {
        "colab": {
          "base_uri": "https://localhost:8080/"
        },
        "id": "BCWWt40inc7x",
        "outputId": "0cb44937-2e85-4c8a-f572-39aada7c850e"
      },
      "source": [
        "evaluate_1=teacher_model.evaluate(test_dataset)[1]*100\r\n",
        "print(\"Test accuracy: {:.2f}\".format(evaluate_1))\r\n",
        "#save model\r\n",
        "teacher_model.save_weights(\"teacher_model.h5\")"
      ],
      "execution_count": 4,
      "outputs": [
        {
          "output_type": "stream",
          "text": [
            "157/157 [==============================] - 2s 10ms/step - loss: 0.2735 - accuracy: 0.9091\n",
            "Test accuracy: 90.91\n"
          ],
          "name": "stdout"
        }
      ]
    },
    {
      "cell_type": "markdown",
      "metadata": {
        "id": "yEDz-P6AoVI4"
      },
      "source": [
        "Student model"
      ]
    },
    {
      "cell_type": "code",
      "metadata": {
        "id": "6K-tQUyWoYfN"
      },
      "source": [
        "def build_student_model():\r\n",
        "    model = models.Sequential()\r\n",
        "    model.add(Input(shape=(28, 28, 1)))\r\n",
        "    model.add(layers.Flatten())\r\n",
        "    model.add(Dense(48, activation=\"relu\"))\r\n",
        "    model.add(Dense(10))    \r\n",
        "    return model\r\n",
        "\r\n",
        "def get_kd_loss(teacher_log,student_log,temp=0.5):\r\n",
        "    teacher_probs = nn.softmax(teacher_log / temp)\r\n",
        "    kd_loss = softmax_cross_entropy(teacher_probs, student_log/ temp, temp**2)\r\n",
        "    return kd_loss\r\n",
        "\r\n",
        "student_model = build_student_model()\r\n",
        "optimizer = Adam(learning_rate=0.01)\r\n",
        "train_loss = Mean(name=\"train_loss\")\r\n",
        "valid_loss = Mean(name=\"test_loss\")\r\n",
        "train_acc = SparseCategoricalAccuracy(name=\"train_acc\")\r\n",
        "valid_acc = SparseCategoricalAccuracy(name=\"valid_acc\")"
      ],
      "execution_count": 5,
      "outputs": []
    },
    {
      "cell_type": "markdown",
      "metadata": {
        "id": "GgX2qeQ21tz6"
      },
      "source": [
        "Train model"
      ]
    },
    {
      "cell_type": "code",
      "metadata": {
        "id": "DCv18gmO1wK6"
      },
      "source": [
        "def train_model(images, labels, teacher_model,student_model, optimizer, temp):\r\n",
        "    teacher_log = teacher_model(images)\r\n",
        "    with tf.GradientTape() as tape:\r\n",
        "        student_log = student_model(images)\r\n",
        "        loss = get_kd_loss(teacher_log, student_log, temp)\r\n",
        "    \r\n",
        "    gradients = tape.gradient(loss, student_model.trainable_variables)\r\n",
        "    optimizer.apply_gradients(zip(gradients, student_model.trainable_variables))\r\n",
        "\r\n",
        "    train_loss(loss)\r\n",
        "    train_acc(labels, nn.softmax(student_log))"
      ],
      "execution_count": 6,
      "outputs": []
    },
    {
      "cell_type": "markdown",
      "metadata": {
        "id": "7uQuqhsL11HU"
      },
      "source": [
        "Validation"
      ]
    },
    {
      "cell_type": "code",
      "metadata": {
        "id": "S2h0ef9413vq"
      },
      "source": [
        "def validate_model(images, labels, teacher_model,student_model, temp):\r\n",
        "    teacher_log = teacher_model(images)\r\n",
        "    student_log = student_model(images)\r\n",
        "    loss = get_kd_loss(teacher_log, student_log, temp)\r\n",
        "    valid_loss(loss)\r\n",
        "    valid_acc(labels, nn.softmax(student_log))"
      ],
      "execution_count": 7,
      "outputs": []
    },
    {
      "cell_type": "markdown",
      "metadata": {
        "id": "rbDhMG0X17T8"
      },
      "source": [
        "Training"
      ]
    },
    {
      "cell_type": "code",
      "metadata": {
        "colab": {
          "base_uri": "https://localhost:8080/"
        },
        "id": "3aoQ9Zbi1-6I",
        "outputId": "2f89468b-f192-4773-8cd0-d24b9d8d2c89"
      },
      "source": [
        "def train_model_all(epochs, teacher_model, student_model, optimizer, temp=0.5):\r\n",
        "    for epoch in range(epochs):\r\n",
        "        for (images, labels) in train_dataset:\r\n",
        "            train_model(images, labels, teacher_model, student_model, optimizer, temp)\r\n",
        "\r\n",
        "        for (images, labels) in test_dataset:\r\n",
        "            validate_model(images, labels, teacher_model, student_model, temp)\r\n",
        "            \r\n",
        "        (loss, acc) = train_loss.result(), train_acc.result()\r\n",
        "        (val_loss, val_acc) = valid_loss.result(), valid_acc.result()\r\n",
        "        \r\n",
        "        train_loss.reset_states(), train_acc.reset_states()\r\n",
        "        valid_loss.reset_states(), valid_acc.reset_states()\r\n",
        "        \r\n",
        "        template = \"Epoch {}, loss: {:.3f}, acc: {:.3f}, val_loss: {:.3f}, val_acc: {:.3f}\"\r\n",
        "        print (template.format(epoch+1,loss,acc,val_loss,val_acc))        \r\n",
        "    \r\n",
        "    return teacher_model, student_model\r\n",
        "_, student_model = train_model_all(20, teacher_model, student_model, optimizer)\r\n",
        "student_model.save_weights(\"student_model.h5\")\r\n",
        "!ls -lh *.h5\r\n",
        "teacher_model.summary()\r\n",
        "student_model.summary()"
      ],
      "execution_count": 8,
      "outputs": [
        {
          "output_type": "stream",
          "text": [
            "Epoch 1, loss: 0.125, acc: 0.812, val_loss: 0.097, val_acc: 0.837\n",
            "Epoch 2, loss: 0.099, acc: 0.846, val_loss: 0.100, val_acc: 0.836\n",
            "Epoch 3, loss: 0.095, acc: 0.851, val_loss: 0.107, val_acc: 0.825\n",
            "Epoch 4, loss: 0.091, acc: 0.857, val_loss: 0.092, val_acc: 0.852\n",
            "Epoch 5, loss: 0.088, acc: 0.861, val_loss: 0.098, val_acc: 0.844\n",
            "Epoch 6, loss: 0.086, acc: 0.863, val_loss: 0.096, val_acc: 0.845\n",
            "Epoch 7, loss: 0.085, acc: 0.863, val_loss: 0.104, val_acc: 0.843\n",
            "Epoch 8, loss: 0.085, acc: 0.864, val_loss: 0.106, val_acc: 0.840\n",
            "Epoch 9, loss: 0.084, acc: 0.867, val_loss: 0.102, val_acc: 0.850\n",
            "Epoch 10, loss: 0.083, acc: 0.868, val_loss: 0.101, val_acc: 0.853\n",
            "Epoch 11, loss: 0.082, acc: 0.868, val_loss: 0.110, val_acc: 0.848\n",
            "Epoch 12, loss: 0.081, acc: 0.869, val_loss: 0.111, val_acc: 0.840\n",
            "Epoch 13, loss: 0.080, acc: 0.873, val_loss: 0.107, val_acc: 0.849\n",
            "Epoch 14, loss: 0.081, acc: 0.871, val_loss: 0.110, val_acc: 0.842\n",
            "Epoch 15, loss: 0.079, acc: 0.871, val_loss: 0.105, val_acc: 0.850\n",
            "Epoch 16, loss: 0.079, acc: 0.872, val_loss: 0.105, val_acc: 0.851\n",
            "Epoch 17, loss: 0.077, acc: 0.873, val_loss: 0.107, val_acc: 0.852\n",
            "Epoch 18, loss: 0.078, acc: 0.874, val_loss: 0.113, val_acc: 0.843\n",
            "Epoch 19, loss: 0.076, acc: 0.874, val_loss: 0.106, val_acc: 0.851\n",
            "Epoch 20, loss: 0.076, acc: 0.875, val_loss: 0.111, val_acc: 0.848\n",
            "-rw-r--r-- 1 root root 163K Dec 18 17:35 student_model.h5\n",
            "-rw-r--r-- 1 root root 335K Dec 18 17:27 teacher_model.h5\n",
            "Model: \"sequential\"\n",
            "_________________________________________________________________\n",
            "Layer (type)                 Output Shape              Param #   \n",
            "=================================================================\n",
            "conv2d (Conv2D)              (None, 24, 24, 16)        416       \n",
            "_________________________________________________________________\n",
            "max_pooling2d (MaxPooling2D) (None, 12, 12, 16)        0         \n",
            "_________________________________________________________________\n",
            "conv2d_1 (Conv2D)            (None, 8, 8, 32)          12832     \n",
            "_________________________________________________________________\n",
            "max_pooling2d_1 (MaxPooling2 (None, 4, 4, 32)          0         \n",
            "_________________________________________________________________\n",
            "dropout (Dropout)            (None, 4, 4, 32)          0         \n",
            "_________________________________________________________________\n",
            "flatten (Flatten)            (None, 512)               0         \n",
            "_________________________________________________________________\n",
            "dense (Dense)                (None, 128)               65664     \n",
            "_________________________________________________________________\n",
            "dense_1 (Dense)              (None, 10)                1290      \n",
            "=================================================================\n",
            "Total params: 80,202\n",
            "Trainable params: 80,202\n",
            "Non-trainable params: 0\n",
            "_________________________________________________________________\n",
            "Model: \"sequential_1\"\n",
            "_________________________________________________________________\n",
            "Layer (type)                 Output Shape              Param #   \n",
            "=================================================================\n",
            "flatten_1 (Flatten)          (None, 784)               0         \n",
            "_________________________________________________________________\n",
            "dense_2 (Dense)              (None, 48)                37680     \n",
            "_________________________________________________________________\n",
            "dense_3 (Dense)              (None, 10)                490       \n",
            "=================================================================\n",
            "Total params: 38,170\n",
            "Trainable params: 38,170\n",
            "Non-trainable params: 0\n",
            "_________________________________________________________________\n"
          ],
          "name": "stdout"
        }
      ]
    }
  ]
}