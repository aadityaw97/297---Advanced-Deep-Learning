{
  "nbformat": 4,
  "nbformat_minor": 0,
  "metadata": {
    "colab": {
      "name": "lightgbm.ipynb",
      "provenance": [],
      "collapsed_sections": []
    },
    "kernelspec": {
      "name": "python3",
      "display_name": "Python 3"
    },
    "widgets": {
      "application/vnd.jupyter.widget-state+json": {
        "eea34cd6d0ed4a83b2b33a90855a2021": {
          "model_module": "@jupyter-widgets/controls",
          "model_name": "VBoxModel",
          "state": {
            "_view_name": "VBoxView",
            "_dom_classes": [
              "widget-interact"
            ],
            "_model_name": "VBoxModel",
            "_view_module": "@jupyter-widgets/controls",
            "_model_module_version": "1.5.0",
            "_view_count": null,
            "_view_module_version": "1.5.0",
            "box_style": "",
            "layout": "IPY_MODEL_475014efe6c44b1c9f8fef07b836ed9a",
            "_model_module": "@jupyter-widgets/controls",
            "children": [
              "IPY_MODEL_171e0837c34547388055ce812d62f4e4",
              "IPY_MODEL_dbd6495f6a1d41be96d1a6c455602a30"
            ]
          }
        },
        "475014efe6c44b1c9f8fef07b836ed9a": {
          "model_module": "@jupyter-widgets/base",
          "model_name": "LayoutModel",
          "state": {
            "_view_name": "LayoutView",
            "grid_template_rows": null,
            "right": null,
            "justify_content": null,
            "_view_module": "@jupyter-widgets/base",
            "overflow": null,
            "_model_module_version": "1.2.0",
            "_view_count": null,
            "flex_flow": null,
            "width": null,
            "min_width": null,
            "border": null,
            "align_items": null,
            "bottom": null,
            "_model_module": "@jupyter-widgets/base",
            "top": null,
            "grid_column": null,
            "overflow_y": null,
            "overflow_x": null,
            "grid_auto_flow": null,
            "grid_area": null,
            "grid_template_columns": null,
            "flex": null,
            "_model_name": "LayoutModel",
            "justify_items": null,
            "grid_row": null,
            "max_height": null,
            "align_content": null,
            "visibility": null,
            "align_self": null,
            "height": null,
            "min_height": null,
            "padding": null,
            "grid_auto_rows": null,
            "grid_gap": null,
            "max_width": null,
            "order": null,
            "_view_module_version": "1.2.0",
            "grid_template_areas": null,
            "object_position": null,
            "object_fit": null,
            "grid_auto_columns": null,
            "margin": null,
            "display": null,
            "left": null
          }
        },
        "171e0837c34547388055ce812d62f4e4": {
          "model_module": "@jupyter-widgets/controls",
          "model_name": "DropdownModel",
          "state": {
            "_options_labels": [
              "l1",
              "l2"
            ],
            "_view_name": "DropdownView",
            "style": "IPY_MODEL_aa3369032a5c4bc199f2ebc4ee0fcd37",
            "_dom_classes": [],
            "description": "metric_name",
            "_model_name": "DropdownModel",
            "index": 0,
            "_view_module": "@jupyter-widgets/controls",
            "_model_module_version": "1.5.0",
            "_view_count": null,
            "disabled": false,
            "_view_module_version": "1.5.0",
            "description_tooltip": null,
            "_model_module": "@jupyter-widgets/controls",
            "layout": "IPY_MODEL_ccb8807bc6ef411da89182bbb2689fbe"
          }
        },
        "dbd6495f6a1d41be96d1a6c455602a30": {
          "model_module": "@jupyter-widgets/output",
          "model_name": "OutputModel",
          "state": {
            "_view_name": "OutputView",
            "msg_id": "",
            "_dom_classes": [],
            "_model_name": "OutputModel",
            "outputs": [
              {
                "output_type": "display_data",
                "metadata": {
                  "tags": [],
                  "needs_background": "light"
                },
                "image/png": "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\n",
                "text/plain": "<Figure size 720x360 with 1 Axes>"
              }
            ],
            "_view_module": "@jupyter-widgets/output",
            "_model_module_version": "1.0.0",
            "_view_count": null,
            "_view_module_version": "1.0.0",
            "layout": "IPY_MODEL_b187dc33357c449f913cf013916878cf",
            "_model_module": "@jupyter-widgets/output"
          }
        },
        "aa3369032a5c4bc199f2ebc4ee0fcd37": {
          "model_module": "@jupyter-widgets/controls",
          "model_name": "DescriptionStyleModel",
          "state": {
            "_view_name": "StyleView",
            "_model_name": "DescriptionStyleModel",
            "description_width": "",
            "_view_module": "@jupyter-widgets/base",
            "_model_module_version": "1.5.0",
            "_view_count": null,
            "_view_module_version": "1.2.0",
            "_model_module": "@jupyter-widgets/controls"
          }
        },
        "ccb8807bc6ef411da89182bbb2689fbe": {
          "model_module": "@jupyter-widgets/base",
          "model_name": "LayoutModel",
          "state": {
            "_view_name": "LayoutView",
            "grid_template_rows": null,
            "right": null,
            "justify_content": null,
            "_view_module": "@jupyter-widgets/base",
            "overflow": null,
            "_model_module_version": "1.2.0",
            "_view_count": null,
            "flex_flow": null,
            "width": null,
            "min_width": null,
            "border": null,
            "align_items": null,
            "bottom": null,
            "_model_module": "@jupyter-widgets/base",
            "top": null,
            "grid_column": null,
            "overflow_y": null,
            "overflow_x": null,
            "grid_auto_flow": null,
            "grid_area": null,
            "grid_template_columns": null,
            "flex": null,
            "_model_name": "LayoutModel",
            "justify_items": null,
            "grid_row": null,
            "max_height": null,
            "align_content": null,
            "visibility": null,
            "align_self": null,
            "height": null,
            "min_height": null,
            "padding": null,
            "grid_auto_rows": null,
            "grid_gap": null,
            "max_width": null,
            "order": null,
            "_view_module_version": "1.2.0",
            "grid_template_areas": null,
            "object_position": null,
            "object_fit": null,
            "grid_auto_columns": null,
            "margin": null,
            "display": null,
            "left": null
          }
        },
        "b187dc33357c449f913cf013916878cf": {
          "model_module": "@jupyter-widgets/base",
          "model_name": "LayoutModel",
          "state": {
            "_view_name": "LayoutView",
            "grid_template_rows": null,
            "right": null,
            "justify_content": null,
            "_view_module": "@jupyter-widgets/base",
            "overflow": null,
            "_model_module_version": "1.2.0",
            "_view_count": null,
            "flex_flow": null,
            "width": null,
            "min_width": null,
            "border": null,
            "align_items": null,
            "bottom": null,
            "_model_module": "@jupyter-widgets/base",
            "top": null,
            "grid_column": null,
            "overflow_y": null,
            "overflow_x": null,
            "grid_auto_flow": null,
            "grid_area": null,
            "grid_template_columns": null,
            "flex": null,
            "_model_name": "LayoutModel",
            "justify_items": null,
            "grid_row": null,
            "max_height": null,
            "align_content": null,
            "visibility": null,
            "align_self": null,
            "height": null,
            "min_height": null,
            "padding": null,
            "grid_auto_rows": null,
            "grid_gap": null,
            "max_width": null,
            "order": null,
            "_view_module_version": "1.2.0",
            "grid_template_areas": null,
            "object_position": null,
            "object_fit": null,
            "grid_auto_columns": null,
            "margin": null,
            "display": null,
            "left": null
          }
        }
      }
    }
  },
  "cells": [
    {
      "cell_type": "markdown",
      "metadata": {
        "id": "O3pQ9ehotMKS"
      },
      "source": [
        "import dependencies"
      ]
    },
    {
      "cell_type": "code",
      "metadata": {
        "id": "FjBvZ-AfWAic",
        "colab": {
          "base_uri": "https://localhost:8080/"
        },
        "outputId": "560b30cf-d4ac-418b-9a4d-1eff18b186cc"
      },
      "source": [
        "import lightgbm as lgb\n",
        "import numpy as np\n",
        "import scipy\n",
        "import pandas as pd\n",
        "import matplotlib.pyplot as plt\n",
        "%matplotlib inline\n",
        "!git clone  https://github.com/Microsoft/LightGBM\n",
        "%cd LightGBM\n",
        "!mkdir build\n",
        "!cd build\n",
        "!make -j$(nproc)\n",
        "!sudo -H pip install setuptools pandas numpy scipy scikit-learn -U\n",
        "%cd /content/\n",
        "!git clone  https://github.com/Microsoft/LightGBM\n",
        "%cd /content/LightGBM"
      ],
      "execution_count": 1,
      "outputs": [
        {
          "output_type": "stream",
          "text": [
            "Cloning into 'LightGBM'...\n",
            "remote: Enumerating objects: 5, done.\u001b[K\n",
            "remote: Counting objects: 100% (5/5), done.\u001b[K\n",
            "remote: Compressing objects: 100% (5/5), done.\u001b[K\n",
            "remote: Total 20465 (delta 0), reused 0 (delta 0), pack-reused 20460\u001b[K\n",
            "Receiving objects: 100% (20465/20465), 16.07 MiB | 23.40 MiB/s, done.\n",
            "Resolving deltas: 100% (14929/14929), done.\n",
            "/content/LightGBM\n",
            "make: *** No targets specified and no makefile found.  Stop.\n",
            "Collecting setuptools\n",
            "\u001b[?25l  Downloading https://files.pythonhosted.org/packages/3d/f2/1489d3b6c72d68bf79cd0fba6b6c7497df4ebf7d40970e2d7eceb8d0ea9c/setuptools-51.0.0-py3-none-any.whl (785kB)\n",
            "\u001b[K     |████████████████████████████████| 788kB 6.3MB/s \n",
            "\u001b[?25hRequirement already up-to-date: pandas in /usr/local/lib/python3.6/dist-packages (1.1.5)\n",
            "Requirement already up-to-date: numpy in /usr/local/lib/python3.6/dist-packages (1.19.4)\n",
            "Collecting scipy\n",
            "\u001b[?25l  Downloading https://files.pythonhosted.org/packages/c8/89/63171228d5ced148f5ced50305c89e8576ffc695a90b58fe5bb602b910c2/scipy-1.5.4-cp36-cp36m-manylinux1_x86_64.whl (25.9MB)\n",
            "\u001b[K     |████████████████████████████████| 25.9MB 1.3MB/s \n",
            "\u001b[?25hCollecting scikit-learn\n",
            "\u001b[?25l  Downloading https://files.pythonhosted.org/packages/5c/a1/273def87037a7fb010512bbc5901c31cfddfca8080bc63b42b26e3cc55b3/scikit_learn-0.23.2-cp36-cp36m-manylinux1_x86_64.whl (6.8MB)\n",
            "\u001b[K     |████████████████████████████████| 6.8MB 46.8MB/s \n",
            "\u001b[?25hRequirement already satisfied, skipping upgrade: pytz>=2017.2 in /usr/local/lib/python3.6/dist-packages (from pandas) (2018.9)\n",
            "Requirement already satisfied, skipping upgrade: python-dateutil>=2.7.3 in /usr/local/lib/python3.6/dist-packages (from pandas) (2.8.1)\n",
            "Requirement already satisfied, skipping upgrade: joblib>=0.11 in /usr/local/lib/python3.6/dist-packages (from scikit-learn) (1.0.0)\n",
            "Collecting threadpoolctl>=2.0.0\n",
            "  Downloading https://files.pythonhosted.org/packages/f7/12/ec3f2e203afa394a149911729357aa48affc59c20e2c1c8297a60f33f133/threadpoolctl-2.1.0-py3-none-any.whl\n",
            "Requirement already satisfied, skipping upgrade: six>=1.5 in /usr/local/lib/python3.6/dist-packages (from python-dateutil>=2.7.3->pandas) (1.15.0)\n",
            "\u001b[31mERROR: datascience 0.10.6 has requirement folium==0.2.1, but you'll have folium 0.8.3 which is incompatible.\u001b[0m\n",
            "\u001b[31mERROR: albumentations 0.1.12 has requirement imgaug<0.2.7,>=0.2.5, but you'll have imgaug 0.2.9 which is incompatible.\u001b[0m\n",
            "Installing collected packages: setuptools, scipy, threadpoolctl, scikit-learn\n",
            "  Found existing installation: setuptools 50.3.2\n",
            "    Uninstalling setuptools-50.3.2:\n",
            "      Successfully uninstalled setuptools-50.3.2\n",
            "  Found existing installation: scipy 1.4.1\n",
            "    Uninstalling scipy-1.4.1:\n",
            "      Successfully uninstalled scipy-1.4.1\n",
            "  Found existing installation: scikit-learn 0.22.2.post1\n",
            "    Uninstalling scikit-learn-0.22.2.post1:\n",
            "      Successfully uninstalled scikit-learn-0.22.2.post1\n",
            "Successfully installed scikit-learn-0.23.2 scipy-1.5.4 setuptools-51.0.0 threadpoolctl-2.1.0\n",
            "/content\n",
            "fatal: destination path 'LightGBM' already exists and is not an empty directory.\n",
            "/content/LightGBM\n"
          ],
          "name": "stdout"
        }
      ]
    },
    {
      "cell_type": "markdown",
      "metadata": {
        "id": "hcKBvdq8t8ST"
      },
      "source": [
        "Define Parameters"
      ]
    },
    {
      "cell_type": "code",
      "metadata": {
        "id": "P7wEoIBJWRGj"
      },
      "source": [
        "params = {'boosting_type':'gbdt',\n",
        " 'objective': 'regression',\n",
        " 'device_type':'gpu',\n",
        " 'metric': {'l2', 'l1'},\n",
        " 'num_leaves': 31,\n",
        " 'learning_rate': 0.05,\n",
        " 'feature_fraction': 0.9,\n",
        " 'bagging_fraction': 0.8,\n",
        " 'bagging_freq': 5,\n",
        " 'verbose': 0 }"
      ],
      "execution_count": 2,
      "outputs": []
    },
    {
      "cell_type": "markdown",
      "metadata": {
        "id": "w70e0AKEuOF0"
      },
      "source": [
        "Process Data"
      ]
    },
    {
      "cell_type": "code",
      "metadata": {
        "id": "uwRhKVfe_2AA"
      },
      "source": [
        "df_train = pd.read_csv('examples/regression/regression.train', header=None, sep='\\t')\n",
        "df_test = pd.read_csv('examples/regression/regression.test', header=None, sep='\\t')\n",
        "y_train = df_train[0]\n",
        "y_test = df_test[0]\n",
        "X_train = df_train.drop(0, axis=1)\n",
        "X_test = df_test.drop(0, axis=1)"
      ],
      "execution_count": 3,
      "outputs": []
    },
    {
      "cell_type": "code",
      "metadata": {
        "id": "xICFrdzOPZAQ"
      },
      "source": [
        "try:\n",
        "    # To enable interactive mode you should install ipywidgets\n",
        "    # https://github.com/jupyter-widgets/ipywidgets\n",
        "    from ipywidgets import interact, SelectMultiple\n",
        "    INTERACTIVE = True\n",
        "except ImportError:\n",
        "    INTERACTIVE = False"
      ],
      "execution_count": 4,
      "outputs": []
    },
    {
      "cell_type": "code",
      "metadata": {
        "colab": {
          "base_uri": "https://localhost:8080/"
        },
        "id": "8JU6YbiKQDAZ",
        "outputId": "570c6db3-ca2c-49b5-f1d2-471983e1d7d6"
      },
      "source": [
        "%cd python-package\n",
        "!python3 setup.py install --gpu \n",
        "!pip install cmake\n",
        "import cmake\n",
        "%cd /content/LightGBM\n",
        "!cmake -DUSE_GPU=1"
      ],
      "execution_count": 5,
      "outputs": [
        {
          "output_type": "stream",
          "text": [
            "/content/LightGBM/python-package\n",
            "running install\n",
            "INFO:LightGBM:Starting to compile the library.\n",
            "INFO:LightGBM:Starting to compile with CMake.\n",
            "Traceback (most recent call last):\n",
            "  File \"setup.py\", line 104, in silent_call\n",
            "    output = subprocess.check_output(cmd, stderr=subprocess.STDOUT)\n",
            "  File \"/usr/lib/python3.6/subprocess.py\", line 356, in check_output\n",
            "    **kwargs).stdout\n",
            "  File \"/usr/lib/python3.6/subprocess.py\", line 438, in run\n",
            "    output=stdout, stderr=stderr)\n",
            "subprocess.CalledProcessError: Command '['make', '_lightgbm', '-j4']' returned non-zero exit status 2.\n",
            "\n",
            "During handling of the above exception, another exception occurred:\n",
            "\n",
            "Traceback (most recent call last):\n",
            "  File \"setup.py\", line 372, in <module>\n",
            "    'Topic :: Scientific/Engineering :: Artificial Intelligence'])\n",
            "  File \"/usr/local/lib/python3.6/dist-packages/setuptools/__init__.py\", line 153, in setup\n",
            "    return distutils.core.setup(**attrs)\n",
            "  File \"/usr/lib/python3.6/distutils/core.py\", line 148, in setup\n",
            "    dist.run_commands()\n",
            "  File \"/usr/lib/python3.6/distutils/dist.py\", line 955, in run_commands\n",
            "    self.run_command(cmd)\n",
            "  File \"/usr/lib/python3.6/distutils/dist.py\", line 974, in run_command\n",
            "    cmd_obj.run()\n",
            "  File \"setup.py\", line 255, in run\n",
            "    nomp=self.nomp, bit32=self.bit32, integrated_opencl=self.integrated_opencl)\n",
            "  File \"setup.py\", line 203, in compile_cpp\n",
            "    error_msg='An error has occurred while building lightgbm library file')\n",
            "  File \"setup.py\", line 113, in silent_call\n",
            "    raise Exception(\"\\n\".join((error_msg, LOG_NOTICE)))\n",
            "Exception: An error has occurred while building lightgbm library file\n",
            "The full version of error log was saved into /root/LightGBM_compilation.log\n",
            "Requirement already satisfied: cmake in /usr/local/lib/python3.6/dist-packages (3.12.0)\n",
            "/content/LightGBM\n",
            "-- The C compiler identification is GNU 7.5.0\n",
            "-- The CXX compiler identification is GNU 7.5.0\n",
            "-- Check for working C compiler: /usr/bin/cc\n",
            "-- Check for working C compiler: /usr/bin/cc -- works\n",
            "-- Detecting C compiler ABI info\n",
            "-- Detecting C compiler ABI info - done\n",
            "-- Detecting C compile features\n",
            "-- Detecting C compile features - done\n",
            "-- Check for working CXX compiler: /usr/bin/c++\n",
            "-- Check for working CXX compiler: /usr/bin/c++ -- works\n",
            "-- Detecting CXX compiler ABI info\n",
            "-- Detecting CXX compiler ABI info - done\n",
            "-- Detecting CXX compile features\n",
            "-- Detecting CXX compile features - done\n",
            "-- Found OpenMP_C: -fopenmp (found version \"4.5\") \n",
            "-- Found OpenMP_CXX: -fopenmp (found version \"4.5\") \n",
            "-- Found OpenMP: TRUE (found version \"4.5\")  \n",
            "-- Looking for CL_VERSION_2_2\n",
            "-- Looking for CL_VERSION_2_2 - found\n",
            "-- Found OpenCL: /usr/lib/x86_64-linux-gnu/libOpenCL.so (found version \"2.2\") \n",
            "-- OpenCL include directory: /usr/include\n",
            "-- Boost version: 1.65.1\n",
            "-- Found the following Boost libraries:\n",
            "--   filesystem\n",
            "--   system\n",
            "-- Performing Test MM_PREFETCH\n",
            "-- Performing Test MM_PREFETCH - Success\n",
            "-- Using _mm_prefetch\n",
            "-- Performing Test MM_MALLOC\n",
            "-- Performing Test MM_MALLOC - Success\n",
            "-- Using _mm_malloc\n",
            "-- Configuring done\n",
            "-- Generating done\n",
            "-- Build files have been written to: /content/LightGBM\n"
          ],
          "name": "stdout"
        }
      ]
    },
    {
      "cell_type": "code",
      "metadata": {
        "id": "wsgTXZN0Pgrb"
      },
      "source": [
        "lgb_train = lgb.Dataset(X_train, y_train)\n",
        "lgb_test = lgb.Dataset(X_test, y_test, reference=lgb_train)"
      ],
      "execution_count": 6,
      "outputs": []
    },
    {
      "cell_type": "code",
      "metadata": {
        "id": "LVIWRKnRPj7A"
      },
      "source": [
        "params = {\n",
        "    'num_leaves': 5,\n",
        "    'metric': ['l1', 'l2'],\n",
        "    'verbose': -1}"
      ],
      "execution_count": 7,
      "outputs": []
    },
    {
      "cell_type": "code",
      "metadata": {
        "colab": {
          "base_uri": "https://localhost:8080/"
        },
        "id": "GxJSUhMM4EbM",
        "outputId": "7cb62c84-a28f-4846-81a8-6e442bd259ec"
      },
      "source": [
        "evals_result = {}  # to record eval results for plotting\n",
        "gbm = lgb.train(params,\n",
        "                lgb_train,\n",
        "                num_boost_round=100,\n",
        "                valid_sets=[lgb_train, lgb_test],\n",
        "                feature_name=['f' + str(i + 1) for i in range(X_train.shape[-1])],\n",
        "                categorical_feature=[21],\n",
        "                evals_result=evals_result,\n",
        "                verbose_eval=10)"
      ],
      "execution_count": 8,
      "outputs": [
        {
          "output_type": "stream",
          "text": [
            "/usr/local/lib/python3.6/dist-packages/lightgbm/basic.py:1209: UserWarning: categorical_feature in Dataset is overridden.\n",
            "New categorical_feature is [21]\n",
            "  'New categorical_feature is {}'.format(sorted(list(categorical_feature))))\n",
            "/usr/local/lib/python3.6/dist-packages/lightgbm/basic.py:762: UserWarning: categorical_feature in param dict is overridden.\n",
            "  warnings.warn('categorical_feature in param dict is overridden.')\n"
          ],
          "name": "stderr"
        },
        {
          "output_type": "stream",
          "text": [
            "[10]\ttraining's l2: 0.217995\ttraining's l1: 0.457448\tvalid_1's l2: 0.21641\tvalid_1's l1: 0.456464\n",
            "[20]\ttraining's l2: 0.205099\ttraining's l1: 0.436869\tvalid_1's l2: 0.201616\tvalid_1's l1: 0.434057\n",
            "[30]\ttraining's l2: 0.197421\ttraining's l1: 0.421302\tvalid_1's l2: 0.192514\tvalid_1's l1: 0.417019\n",
            "[40]\ttraining's l2: 0.192856\ttraining's l1: 0.411107\tvalid_1's l2: 0.187258\tvalid_1's l1: 0.406303\n",
            "[50]\ttraining's l2: 0.189593\ttraining's l1: 0.403695\tvalid_1's l2: 0.183688\tvalid_1's l1: 0.398997\n",
            "[60]\ttraining's l2: 0.187043\ttraining's l1: 0.398704\tvalid_1's l2: 0.181009\tvalid_1's l1: 0.393977\n",
            "[70]\ttraining's l2: 0.184982\ttraining's l1: 0.394876\tvalid_1's l2: 0.178803\tvalid_1's l1: 0.389805\n",
            "[80]\ttraining's l2: 0.1828\ttraining's l1: 0.391147\tvalid_1's l2: 0.176799\tvalid_1's l1: 0.386476\n",
            "[90]\ttraining's l2: 0.180817\ttraining's l1: 0.388101\tvalid_1's l2: 0.175775\tvalid_1's l1: 0.384404\n",
            "[100]\ttraining's l2: 0.179171\ttraining's l1: 0.385174\tvalid_1's l2: 0.175321\tvalid_1's l1: 0.382929\n"
          ],
          "name": "stdout"
        }
      ]
    },
    {
      "cell_type": "code",
      "metadata": {
        "colab": {
          "base_uri": "https://localhost:8080/",
          "height": 382,
          "referenced_widgets": [
            "eea34cd6d0ed4a83b2b33a90855a2021",
            "475014efe6c44b1c9f8fef07b836ed9a",
            "171e0837c34547388055ce812d62f4e4",
            "dbd6495f6a1d41be96d1a6c455602a30",
            "aa3369032a5c4bc199f2ebc4ee0fcd37",
            "ccb8807bc6ef411da89182bbb2689fbe",
            "b187dc33357c449f913cf013916878cf"
          ]
        },
        "id": "7xpDkb1cTJKr",
        "outputId": "41763ae5-5094-4e9c-ae95-eea03f7a02aa"
      },
      "source": [
        "def render_metric(metric_name):\n",
        "    ax = lgb.plot_metric(evals_result, metric=metric_name, figsize=(10, 5))\n",
        "    plt.show()\n",
        "if INTERACTIVE:\n",
        "    interact(render_metric, metric_name=params['metric'])\n",
        "else:\n",
        "    render_metric(params['metric'][0])"
      ],
      "execution_count": 9,
      "outputs": [
        {
          "output_type": "display_data",
          "data": {
            "application/vnd.jupyter.widget-view+json": {
              "model_id": "eea34cd6d0ed4a83b2b33a90855a2021",
              "version_minor": 0,
              "version_major": 2
            },
            "text/plain": [
              "interactive(children=(Dropdown(description='metric_name', options=('l1', 'l2'), value='l1'), Output()), _dom_c…"
            ]
          },
          "metadata": {
            "tags": []
          }
        }
      ]
    }
  ]
}