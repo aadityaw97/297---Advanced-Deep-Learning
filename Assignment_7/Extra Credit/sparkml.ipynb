{
  "nbformat": 4,
  "nbformat_minor": 0,
  "metadata": {
    "kernelspec": {
      "display_name": "Python 3",
      "language": "python",
      "name": "python3"
    },
    "language_info": {
      "codemirror_mode": {
        "name": "ipython",
        "version": 3
      },
      "file_extension": ".py",
      "mimetype": "text/x-python",
      "name": "python",
      "nbconvert_exporter": "python",
      "pygments_lexer": "ipython3",
      "version": "3.7.6"
    },
    "colab": {
      "name": "sparkml.ipynb",
      "provenance": []
    }
  },
  "cells": [
    {
      "cell_type": "markdown",
      "metadata": {
        "id": "3lalYyoouZvL"
      },
      "source": [
        "Import dependencies"
      ]
    },
    {
      "cell_type": "code",
      "metadata": {
        "id": "HcAx1IH7uZvL"
      },
      "source": [
        "import pandas as pd\n",
        "import numpy as np  \n",
        "import matplotlib.pyplot as plt  \n",
        "%matplotlib inline"
      ],
      "execution_count": 1,
      "outputs": []
    },
    {
      "cell_type": "markdown",
      "metadata": {
        "id": "BEdpaQ32uZvL"
      },
      "source": [
        "Read data"
      ]
    },
    {
      "cell_type": "code",
      "metadata": {
        "id": "lMndY4vcuZvL",
        "colab": {
          "base_uri": "https://localhost:8080/"
        },
        "outputId": "1e24507e-ae46-42cb-9689-62fd9057f6ac"
      },
      "source": [
        "url = \"https://raw.githubusercontent.com/AdiPersonalWorks/Random/master/student_scores%20-%20student_scores.csv\"\n",
        "data = pd.read_csv(url)\n",
        "data.head(10)\n",
        "data.describe()\n",
        "data.info()"
      ],
      "execution_count": 2,
      "outputs": [
        {
          "output_type": "stream",
          "text": [
            "<class 'pandas.core.frame.DataFrame'>\n",
            "RangeIndex: 25 entries, 0 to 24\n",
            "Data columns (total 2 columns):\n",
            " #   Column  Non-Null Count  Dtype  \n",
            "---  ------  --------------  -----  \n",
            " 0   Hours   25 non-null     float64\n",
            " 1   Scores  25 non-null     int64  \n",
            "dtypes: float64(1), int64(1)\n",
            "memory usage: 528.0 bytes\n"
          ],
          "name": "stdout"
        }
      ]
    },
    {
      "cell_type": "markdown",
      "metadata": {
        "id": "6zbR2LWYuZvS"
      },
      "source": [
        "Plot distribution"
      ]
    },
    {
      "cell_type": "code",
      "metadata": {
        "id": "9fFPmDq8uZvS",
        "colab": {
          "base_uri": "https://localhost:8080/",
          "height": 295
        },
        "outputId": "c3a1c5ae-f61c-4731-b2c3-486161576eb5"
      },
      "source": [
        "from matplotlib import style\n",
        "#style.use('dark_background')\n",
        "data.plot(x='Hours', y='Scores', style='o')  \n",
        "plt.title('Hours vs Percentage')  \n",
        "plt.xlabel('Hours Studied')  \n",
        "plt.ylabel('Percentage Score')  \n",
        "plt.show()"
      ],
      "execution_count": 3,
      "outputs": [
        {
          "output_type": "display_data",
          "data": {
            "image/png": "[encoded data removed]",
            "text/plain": [
              "<Figure size 432x288 with 1 Axes>"
            ]
          },
          "metadata": {
            "tags": [],
            "needs_background": "light"
          }
        }
      ]
    },
    {
      "cell_type": "markdown",
      "metadata": {
        "id": "q-s_oh-ZuZvT"
      },
      "source": [
        "Data preparation"
      ]
    },
    {
      "cell_type": "code",
      "metadata": {
        "id": "ZdqxcCofuZvT"
      },
      "source": [
        "x = data.iloc[:, :-1].values  \n",
        "y = data.iloc[:, 1].values\n",
        "from sklearn.model_selection import train_test_split\n",
        "# split into train and test set\n",
        "x_train,x_test,y_train,y_test=train_test_split(x,\n",
        "                                              y,\n",
        "                                              test_size=0.2,\n",
        "                                              random_state=0)"
      ],
      "execution_count": 4,
      "outputs": []
    },
    {
      "cell_type": "markdown",
      "metadata": {
        "id": "61B3bNFhuZvT"
      },
      "source": [
        "Training"
      ]
    },
    {
      "cell_type": "code",
      "metadata": {
        "id": "DvpuCyDCuZvW",
        "colab": {
          "base_uri": "https://localhost:8080/"
        },
        "outputId": "33b4ea34-23a7-4296-8dbb-7b555992e19c"
      },
      "source": [
        "from sklearn.linear_model import LinearRegression  \n",
        "lr = LinearRegression()  \n",
        "lr.fit(x_train, y_train) "
      ],
      "execution_count": 5,
      "outputs": [
        {
          "output_type": "execute_result",
          "data": {
            "text/plain": [
              "LinearRegression(copy_X=True, fit_intercept=True, n_jobs=None, normalize=False)"
            ]
          },
          "metadata": {
            "tags": []
          },
          "execution_count": 5
        }
      ]
    },
    {
      "cell_type": "markdown",
      "metadata": {
        "id": "gYI1ARrUuZvX"
      },
      "source": [
        "Plot regression line"
      ]
    },
    {
      "cell_type": "code",
      "metadata": {
        "id": "JfHbzuGKuZvX",
        "colab": {
          "base_uri": "https://localhost:8080/",
          "height": 295
        },
        "outputId": "66bd2246-80f2-4c28-eb49-c41cab275b61"
      },
      "source": [
        "line= lr.coef_*x+lr.intercept_\n",
        "plt.scatter(x_train, y_train, color = \"red\")\n",
        "plt.plot(x_train, lr.predict(x_train), color = \"green\")\n",
        "plt.title('Hours vs Percentage (Training set)')  \n",
        "plt.xlabel('Hours Studied')  \n",
        "plt.ylabel('Percentage Score')  \n",
        "plt.show()"
      ],
      "execution_count": 6,
      "outputs": [
        {
          "output_type": "display_data",
          "data": {
            "image/png": "[encoded data removed]",
            "text/plain": [
              "<Figure size 432x288 with 1 Axes>"
            ]
          },
          "metadata": {
            "tags": [],
            "needs_background": "light"
          }
        }
      ]
    },
    {
      "cell_type": "markdown",
      "metadata": {
        "id": "UkMqvpdSuZvX"
      },
      "source": [
        "Predictions"
      ]
    },
    {
      "cell_type": "code",
      "metadata": {
        "id": "dsAOh90SuZvX",
        "colab": {
          "base_uri": "https://localhost:8080/",
          "height": 434
        },
        "outputId": "a8c470fd-df82-49ed-d734-d47b1f67b9cd"
      },
      "source": [
        "y_pred = lr.predict(x_test)\r\n",
        "df = pd.DataFrame({'Actual': y_test, 'Predicted': y_pred})\r\n",
        "df.plot(kind='bar', figsize=(10,6), color=[\"blue\", \"red\"])\r\n",
        "plt.title('Actual vs Predicted score')  \r\n",
        "plt.xlabel('Actual')  \r\n",
        "plt.ylabel('Predicted')  \r\n",
        "plt.legend([\"Actual\", \"Predicted\"])\r\n",
        "plt.show()\r\n",
        "hours = 8.5\r\n",
        "own_pred = lr.predict([[8.5]])\r\n",
        "print(\"No of Hours = {}\".format(hours))\r\n",
        "print(\"Predicted Score = {}\".format(own_pred[0]))"
      ],
      "execution_count": 8,
      "outputs": [
        {
          "output_type": "display_data",
          "data": {
            "image/png": "[encoded data removed]",
            "text/plain": [
              "<Figure size 720x432 with 1 Axes>"
            ]
          },
          "metadata": {
            "tags": [],
            "needs_background": "light"
          }
        },
        {
          "output_type": "stream",
          "text": [
            "No of Hours = 8.5\n",
            "Predicted Score = 86.25874012689371\n"
          ],
          "name": "stdout"
        }
      ]
    },
    {
      "cell_type": "markdown",
      "metadata": {
        "id": "AzrOuBc-uZvb"
      },
      "source": [
        "Model Evaluation"
      ]
    },
    {
      "cell_type": "code",
      "metadata": {
        "id": "WstUB1uluZvb",
        "colab": {
          "base_uri": "https://localhost:8080/"
        },
        "outputId": "17679a6c-7c8c-428f-b588-473c94fb12a3"
      },
      "source": [
        "from sklearn import metrics  \n",
        "print('Mean Absolute Error:', \n",
        "      metrics.mean_absolute_error(y_test, y_pred)) "
      ],
      "execution_count": 9,
      "outputs": [
        {
          "output_type": "stream",
          "text": [
            "Mean Absolute Error: 4.183859899002982\n"
          ],
          "name": "stdout"
        }
      ]
    }
  ]
}