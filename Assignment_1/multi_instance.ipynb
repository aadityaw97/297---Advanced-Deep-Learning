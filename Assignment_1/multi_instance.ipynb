{
  "nbformat": 4,
  "nbformat_minor": 0,
  "metadata": {
    "colab": {
      "name": "multi_instance.ipynb",
      "provenance": []
    },
    "kernelspec": {
      "name": "python3",
      "display_name": "Python 3"
    },
    "widgets": {
      "application/vnd.jupyter.widget-state+json": {
        "dc1e264524b34b9986f4bac640eaa587": {
          "model_module": "@jupyter-widgets/controls",
          "model_name": "HBoxModel",
          "state": {
            "_view_name": "HBoxView",
            "_dom_classes": [],
            "_model_name": "HBoxModel",
            "_view_module": "@jupyter-widgets/controls",
            "_model_module_version": "1.5.0",
            "_view_count": null,
            "_view_module_version": "1.5.0",
            "box_style": "",
            "layout": "IPY_MODEL_45996d4235b6458e8e588b4a1205d8cd",
            "_model_module": "@jupyter-widgets/controls",
            "children": [
              "IPY_MODEL_b00e2d48a1214f789704b91e332882b0",
              "IPY_MODEL_fd94d7fe8995462db3707968424a01ec"
            ]
          }
        },
        "45996d4235b6458e8e588b4a1205d8cd": {
          "model_module": "@jupyter-widgets/base",
          "model_name": "LayoutModel",
          "state": {
            "_view_name": "LayoutView",
            "grid_template_rows": null,
            "right": null,
            "justify_content": null,
            "_view_module": "@jupyter-widgets/base",
            "overflow": null,
            "_model_module_version": "1.2.0",
            "_view_count": null,
            "flex_flow": null,
            "width": null,
            "min_width": null,
            "border": null,
            "align_items": null,
            "bottom": null,
            "_model_module": "@jupyter-widgets/base",
            "top": null,
            "grid_column": null,
            "overflow_y": null,
            "overflow_x": null,
            "grid_auto_flow": null,
            "grid_area": null,
            "grid_template_columns": null,
            "flex": null,
            "_model_name": "LayoutModel",
            "justify_items": null,
            "grid_row": null,
            "max_height": null,
            "align_content": null,
            "visibility": null,
            "align_self": null,
            "height": null,
            "min_height": null,
            "padding": null,
            "grid_auto_rows": null,
            "grid_gap": null,
            "max_width": null,
            "order": null,
            "_view_module_version": "1.2.0",
            "grid_template_areas": null,
            "object_position": null,
            "object_fit": null,
            "grid_auto_columns": null,
            "margin": null,
            "display": null,
            "left": null
          }
        },
        "b00e2d48a1214f789704b91e332882b0": {
          "model_module": "@jupyter-widgets/controls",
          "model_name": "FloatProgressModel",
          "state": {
            "_view_name": "ProgressView",
            "style": "IPY_MODEL_db6b37e24b694f79838b8b15f4473c2d",
            "_dom_classes": [],
            "description": "",
            "_model_name": "FloatProgressModel",
            "bar_style": "info",
            "max": 1,
            "_view_module": "@jupyter-widgets/controls",
            "_model_module_version": "1.5.0",
            "value": 1,
            "_view_count": null,
            "_view_module_version": "1.5.0",
            "orientation": "horizontal",
            "min": 0,
            "description_tooltip": null,
            "_model_module": "@jupyter-widgets/controls",
            "layout": "IPY_MODEL_677c9961306b41f883efbd72ed5429f4"
          }
        },
        "fd94d7fe8995462db3707968424a01ec": {
          "model_module": "@jupyter-widgets/controls",
          "model_name": "HTMLModel",
          "state": {
            "_view_name": "HTMLView",
            "style": "IPY_MODEL_296687b5aa4245a8bbb83876ba92893b",
            "_dom_classes": [],
            "description": "",
            "_model_name": "HTMLModel",
            "placeholder": "​",
            "_view_module": "@jupyter-widgets/controls",
            "_model_module_version": "1.5.0",
            "value": " 9920512/? [00:20&lt;00:00, 785551.71it/s]",
            "_view_count": null,
            "_view_module_version": "1.5.0",
            "description_tooltip": null,
            "_model_module": "@jupyter-widgets/controls",
            "layout": "IPY_MODEL_bee316d1be4345a3a2099cf50acc42b7"
          }
        },
        "db6b37e24b694f79838b8b15f4473c2d": {
          "model_module": "@jupyter-widgets/controls",
          "model_name": "ProgressStyleModel",
          "state": {
            "_view_name": "StyleView",
            "_model_name": "ProgressStyleModel",
            "description_width": "initial",
            "_view_module": "@jupyter-widgets/base",
            "_model_module_version": "1.5.0",
            "_view_count": null,
            "_view_module_version": "1.2.0",
            "bar_color": null,
            "_model_module": "@jupyter-widgets/controls"
          }
        },
        "677c9961306b41f883efbd72ed5429f4": {
          "model_module": "@jupyter-widgets/base",
          "model_name": "LayoutModel",
          "state": {
            "_view_name": "LayoutView",
            "grid_template_rows": null,
            "right": null,
            "justify_content": null,
            "_view_module": "@jupyter-widgets/base",
            "overflow": null,
            "_model_module_version": "1.2.0",
            "_view_count": null,
            "flex_flow": null,
            "width": null,
            "min_width": null,
            "border": null,
            "align_items": null,
            "bottom": null,
            "_model_module": "@jupyter-widgets/base",
            "top": null,
            "grid_column": null,
            "overflow_y": null,
            "overflow_x": null,
            "grid_auto_flow": null,
            "grid_area": null,
            "grid_template_columns": null,
            "flex": null,
            "_model_name": "LayoutModel",
            "justify_items": null,
            "grid_row": null,
            "max_height": null,
            "align_content": null,
            "visibility": null,
            "align_self": null,
            "height": null,
            "min_height": null,
            "padding": null,
            "grid_auto_rows": null,
            "grid_gap": null,
            "max_width": null,
            "order": null,
            "_view_module_version": "1.2.0",
            "grid_template_areas": null,
            "object_position": null,
            "object_fit": null,
            "grid_auto_columns": null,
            "margin": null,
            "display": null,
            "left": null
          }
        },
        "296687b5aa4245a8bbb83876ba92893b": {
          "model_module": "@jupyter-widgets/controls",
          "model_name": "DescriptionStyleModel",
          "state": {
            "_view_name": "StyleView",
            "_model_name": "DescriptionStyleModel",
            "description_width": "",
            "_view_module": "@jupyter-widgets/base",
            "_model_module_version": "1.5.0",
            "_view_count": null,
            "_view_module_version": "1.2.0",
            "_model_module": "@jupyter-widgets/controls"
          }
        },
        "bee316d1be4345a3a2099cf50acc42b7": {
          "model_module": "@jupyter-widgets/base",
          "model_name": "LayoutModel",
          "state": {
            "_view_name": "LayoutView",
            "grid_template_rows": null,
            "right": null,
            "justify_content": null,
            "_view_module": "@jupyter-widgets/base",
            "overflow": null,
            "_model_module_version": "1.2.0",
            "_view_count": null,
            "flex_flow": null,
            "width": null,
            "min_width": null,
            "border": null,
            "align_items": null,
            "bottom": null,
            "_model_module": "@jupyter-widgets/base",
            "top": null,
            "grid_column": null,
            "overflow_y": null,
            "overflow_x": null,
            "grid_auto_flow": null,
            "grid_area": null,
            "grid_template_columns": null,
            "flex": null,
            "_model_name": "LayoutModel",
            "justify_items": null,
            "grid_row": null,
            "max_height": null,
            "align_content": null,
            "visibility": null,
            "align_self": null,
            "height": null,
            "min_height": null,
            "padding": null,
            "grid_auto_rows": null,
            "grid_gap": null,
            "max_width": null,
            "order": null,
            "_view_module_version": "1.2.0",
            "grid_template_areas": null,
            "object_position": null,
            "object_fit": null,
            "grid_auto_columns": null,
            "margin": null,
            "display": null,
            "left": null
          }
        },
        "1ebe8787a4e24774a2a3a946b8b61c19": {
          "model_module": "@jupyter-widgets/controls",
          "model_name": "HBoxModel",
          "state": {
            "_view_name": "HBoxView",
            "_dom_classes": [],
            "_model_name": "HBoxModel",
            "_view_module": "@jupyter-widgets/controls",
            "_model_module_version": "1.5.0",
            "_view_count": null,
            "_view_module_version": "1.5.0",
            "box_style": "",
            "layout": "IPY_MODEL_0b3d688e32cf46daa05167c35631bbe0",
            "_model_module": "@jupyter-widgets/controls",
            "children": [
              "IPY_MODEL_a4cc0ae9795d474b8c3b68ef7ef2c4c0",
              "IPY_MODEL_3590f0b8210d41829858fd874ba3004a"
            ]
          }
        },
        "0b3d688e32cf46daa05167c35631bbe0": {
          "model_module": "@jupyter-widgets/base",
          "model_name": "LayoutModel",
          "state": {
            "_view_name": "LayoutView",
            "grid_template_rows": null,
            "right": null,
            "justify_content": null,
            "_view_module": "@jupyter-widgets/base",
            "overflow": null,
            "_model_module_version": "1.2.0",
            "_view_count": null,
            "flex_flow": null,
            "width": null,
            "min_width": null,
            "border": null,
            "align_items": null,
            "bottom": null,
            "_model_module": "@jupyter-widgets/base",
            "top": null,
            "grid_column": null,
            "overflow_y": null,
            "overflow_x": null,
            "grid_auto_flow": null,
            "grid_area": null,
            "grid_template_columns": null,
            "flex": null,
            "_model_name": "LayoutModel",
            "justify_items": null,
            "grid_row": null,
            "max_height": null,
            "align_content": null,
            "visibility": null,
            "align_self": null,
            "height": null,
            "min_height": null,
            "padding": null,
            "grid_auto_rows": null,
            "grid_gap": null,
            "max_width": null,
            "order": null,
            "_view_module_version": "1.2.0",
            "grid_template_areas": null,
            "object_position": null,
            "object_fit": null,
            "grid_auto_columns": null,
            "margin": null,
            "display": null,
            "left": null
          }
        },
        "a4cc0ae9795d474b8c3b68ef7ef2c4c0": {
          "model_module": "@jupyter-widgets/controls",
          "model_name": "FloatProgressModel",
          "state": {
            "_view_name": "ProgressView",
            "style": "IPY_MODEL_9c59d23d11e746458d290613540bdd4d",
            "_dom_classes": [],
            "description": "",
            "_model_name": "FloatProgressModel",
            "bar_style": "success",
            "max": 1,
            "_view_module": "@jupyter-widgets/controls",
            "_model_module_version": "1.5.0",
            "value": 1,
            "_view_count": null,
            "_view_module_version": "1.5.0",
            "orientation": "horizontal",
            "min": 0,
            "description_tooltip": null,
            "_model_module": "@jupyter-widgets/controls",
            "layout": "IPY_MODEL_df015126fae54d728f8a828e1f5db444"
          }
        },
        "3590f0b8210d41829858fd874ba3004a": {
          "model_module": "@jupyter-widgets/controls",
          "model_name": "HTMLModel",
          "state": {
            "_view_name": "HTMLView",
            "style": "IPY_MODEL_ec6eed7421b0477082e36dc6b61d3b1e",
            "_dom_classes": [],
            "description": "",
            "_model_name": "HTMLModel",
            "placeholder": "​",
            "_view_module": "@jupyter-widgets/controls",
            "_model_module_version": "1.5.0",
            "value": " 32768/? [00:00&lt;00:00, 104466.98it/s]",
            "_view_count": null,
            "_view_module_version": "1.5.0",
            "description_tooltip": null,
            "_model_module": "@jupyter-widgets/controls",
            "layout": "IPY_MODEL_96265b6f5d7f4b4799ecafc779e1cbf3"
          }
        },
        "9c59d23d11e746458d290613540bdd4d": {
          "model_module": "@jupyter-widgets/controls",
          "model_name": "ProgressStyleModel",
          "state": {
            "_view_name": "StyleView",
            "_model_name": "ProgressStyleModel",
            "description_width": "initial",
            "_view_module": "@jupyter-widgets/base",
            "_model_module_version": "1.5.0",
            "_view_count": null,
            "_view_module_version": "1.2.0",
            "bar_color": null,
            "_model_module": "@jupyter-widgets/controls"
          }
        },
        "df015126fae54d728f8a828e1f5db444": {
          "model_module": "@jupyter-widgets/base",
          "model_name": "LayoutModel",
          "state": {
            "_view_name": "LayoutView",
            "grid_template_rows": null,
            "right": null,
            "justify_content": null,
            "_view_module": "@jupyter-widgets/base",
            "overflow": null,
            "_model_module_version": "1.2.0",
            "_view_count": null,
            "flex_flow": null,
            "width": null,
            "min_width": null,
            "border": null,
            "align_items": null,
            "bottom": null,
            "_model_module": "@jupyter-widgets/base",
            "top": null,
            "grid_column": null,
            "overflow_y": null,
            "overflow_x": null,
            "grid_auto_flow": null,
            "grid_area": null,
            "grid_template_columns": null,
            "flex": null,
            "_model_name": "LayoutModel",
            "justify_items": null,
            "grid_row": null,
            "max_height": null,
            "align_content": null,
            "visibility": null,
            "align_self": null,
            "height": null,
            "min_height": null,
            "padding": null,
            "grid_auto_rows": null,
            "grid_gap": null,
            "max_width": null,
            "order": null,
            "_view_module_version": "1.2.0",
            "grid_template_areas": null,
            "object_position": null,
            "object_fit": null,
            "grid_auto_columns": null,
            "margin": null,
            "display": null,
            "left": null
          }
        },
        "ec6eed7421b0477082e36dc6b61d3b1e": {
          "model_module": "@jupyter-widgets/controls",
          "model_name": "DescriptionStyleModel",
          "state": {
            "_view_name": "StyleView",
            "_model_name": "DescriptionStyleModel",
            "description_width": "",
            "_view_module": "@jupyter-widgets/base",
            "_model_module_version": "1.5.0",
            "_view_count": null,
            "_view_module_version": "1.2.0",
            "_model_module": "@jupyter-widgets/controls"
          }
        },
        "96265b6f5d7f4b4799ecafc779e1cbf3": {
          "model_module": "@jupyter-widgets/base",
          "model_name": "LayoutModel",
          "state": {
            "_view_name": "LayoutView",
            "grid_template_rows": null,
            "right": null,
            "justify_content": null,
            "_view_module": "@jupyter-widgets/base",
            "overflow": null,
            "_model_module_version": "1.2.0",
            "_view_count": null,
            "flex_flow": null,
            "width": null,
            "min_width": null,
            "border": null,
            "align_items": null,
            "bottom": null,
            "_model_module": "@jupyter-widgets/base",
            "top": null,
            "grid_column": null,
            "overflow_y": null,
            "overflow_x": null,
            "grid_auto_flow": null,
            "grid_area": null,
            "grid_template_columns": null,
            "flex": null,
            "_model_name": "LayoutModel",
            "justify_items": null,
            "grid_row": null,
            "max_height": null,
            "align_content": null,
            "visibility": null,
            "align_self": null,
            "height": null,
            "min_height": null,
            "padding": null,
            "grid_auto_rows": null,
            "grid_gap": null,
            "max_width": null,
            "order": null,
            "_view_module_version": "1.2.0",
            "grid_template_areas": null,
            "object_position": null,
            "object_fit": null,
            "grid_auto_columns": null,
            "margin": null,
            "display": null,
            "left": null
          }
        },
        "fc22d42534bd461090e5959bdb900036": {
          "model_module": "@jupyter-widgets/controls",
          "model_name": "HBoxModel",
          "state": {
            "_view_name": "HBoxView",
            "_dom_classes": [],
            "_model_name": "HBoxModel",
            "_view_module": "@jupyter-widgets/controls",
            "_model_module_version": "1.5.0",
            "_view_count": null,
            "_view_module_version": "1.5.0",
            "box_style": "",
            "layout": "IPY_MODEL_f6017a8456de4ec4869ebcf57cb7aaf8",
            "_model_module": "@jupyter-widgets/controls",
            "children": [
              "IPY_MODEL_ce653894160949d6a065934e458d8cd6",
              "IPY_MODEL_feff537e178e4daea45b884b82e93682"
            ]
          }
        },
        "f6017a8456de4ec4869ebcf57cb7aaf8": {
          "model_module": "@jupyter-widgets/base",
          "model_name": "LayoutModel",
          "state": {
            "_view_name": "LayoutView",
            "grid_template_rows": null,
            "right": null,
            "justify_content": null,
            "_view_module": "@jupyter-widgets/base",
            "overflow": null,
            "_model_module_version": "1.2.0",
            "_view_count": null,
            "flex_flow": null,
            "width": null,
            "min_width": null,
            "border": null,
            "align_items": null,
            "bottom": null,
            "_model_module": "@jupyter-widgets/base",
            "top": null,
            "grid_column": null,
            "overflow_y": null,
            "overflow_x": null,
            "grid_auto_flow": null,
            "grid_area": null,
            "grid_template_columns": null,
            "flex": null,
            "_model_name": "LayoutModel",
            "justify_items": null,
            "grid_row": null,
            "max_height": null,
            "align_content": null,
            "visibility": null,
            "align_self": null,
            "height": null,
            "min_height": null,
            "padding": null,
            "grid_auto_rows": null,
            "grid_gap": null,
            "max_width": null,
            "order": null,
            "_view_module_version": "1.2.0",
            "grid_template_areas": null,
            "object_position": null,
            "object_fit": null,
            "grid_auto_columns": null,
            "margin": null,
            "display": null,
            "left": null
          }
        },
        "ce653894160949d6a065934e458d8cd6": {
          "model_module": "@jupyter-widgets/controls",
          "model_name": "FloatProgressModel",
          "state": {
            "_view_name": "ProgressView",
            "style": "IPY_MODEL_bacd4d742f3a49b996001200c84b1984",
            "_dom_classes": [],
            "description": "",
            "_model_name": "FloatProgressModel",
            "bar_style": "info",
            "max": 1,
            "_view_module": "@jupyter-widgets/controls",
            "_model_module_version": "1.5.0",
            "value": 1,
            "_view_count": null,
            "_view_module_version": "1.5.0",
            "orientation": "horizontal",
            "min": 0,
            "description_tooltip": null,
            "_model_module": "@jupyter-widgets/controls",
            "layout": "IPY_MODEL_a28de32ef8694defa7ad636522eaa58c"
          }
        },
        "feff537e178e4daea45b884b82e93682": {
          "model_module": "@jupyter-widgets/controls",
          "model_name": "HTMLModel",
          "state": {
            "_view_name": "HTMLView",
            "style": "IPY_MODEL_901c3625184c4cdaaaaf9f80c0ff0a46",
            "_dom_classes": [],
            "description": "",
            "_model_name": "HTMLModel",
            "placeholder": "​",
            "_view_module": "@jupyter-widgets/controls",
            "_model_module_version": "1.5.0",
            "value": " 1654784/? [00:18&lt;00:00, 269032.81it/s]",
            "_view_count": null,
            "_view_module_version": "1.5.0",
            "description_tooltip": null,
            "_model_module": "@jupyter-widgets/controls",
            "layout": "IPY_MODEL_75a6c0b0b00b469fac5e445c7cb91d83"
          }
        },
        "bacd4d742f3a49b996001200c84b1984": {
          "model_module": "@jupyter-widgets/controls",
          "model_name": "ProgressStyleModel",
          "state": {
            "_view_name": "StyleView",
            "_model_name": "ProgressStyleModel",
            "description_width": "initial",
            "_view_module": "@jupyter-widgets/base",
            "_model_module_version": "1.5.0",
            "_view_count": null,
            "_view_module_version": "1.2.0",
            "bar_color": null,
            "_model_module": "@jupyter-widgets/controls"
          }
        },
        "a28de32ef8694defa7ad636522eaa58c": {
          "model_module": "@jupyter-widgets/base",
          "model_name": "LayoutModel",
          "state": {
            "_view_name": "LayoutView",
            "grid_template_rows": null,
            "right": null,
            "justify_content": null,
            "_view_module": "@jupyter-widgets/base",
            "overflow": null,
            "_model_module_version": "1.2.0",
            "_view_count": null,
            "flex_flow": null,
            "width": null,
            "min_width": null,
            "border": null,
            "align_items": null,
            "bottom": null,
            "_model_module": "@jupyter-widgets/base",
            "top": null,
            "grid_column": null,
            "overflow_y": null,
            "overflow_x": null,
            "grid_auto_flow": null,
            "grid_area": null,
            "grid_template_columns": null,
            "flex": null,
            "_model_name": "LayoutModel",
            "justify_items": null,
            "grid_row": null,
            "max_height": null,
            "align_content": null,
            "visibility": null,
            "align_self": null,
            "height": null,
            "min_height": null,
            "padding": null,
            "grid_auto_rows": null,
            "grid_gap": null,
            "max_width": null,
            "order": null,
            "_view_module_version": "1.2.0",
            "grid_template_areas": null,
            "object_position": null,
            "object_fit": null,
            "grid_auto_columns": null,
            "margin": null,
            "display": null,
            "left": null
          }
        },
        "901c3625184c4cdaaaaf9f80c0ff0a46": {
          "model_module": "@jupyter-widgets/controls",
          "model_name": "DescriptionStyleModel",
          "state": {
            "_view_name": "StyleView",
            "_model_name": "DescriptionStyleModel",
            "description_width": "",
            "_view_module": "@jupyter-widgets/base",
            "_model_module_version": "1.5.0",
            "_view_count": null,
            "_view_module_version": "1.2.0",
            "_model_module": "@jupyter-widgets/controls"
          }
        },
        "75a6c0b0b00b469fac5e445c7cb91d83": {
          "model_module": "@jupyter-widgets/base",
          "model_name": "LayoutModel",
          "state": {
            "_view_name": "LayoutView",
            "grid_template_rows": null,
            "right": null,
            "justify_content": null,
            "_view_module": "@jupyter-widgets/base",
            "overflow": null,
            "_model_module_version": "1.2.0",
            "_view_count": null,
            "flex_flow": null,
            "width": null,
            "min_width": null,
            "border": null,
            "align_items": null,
            "bottom": null,
            "_model_module": "@jupyter-widgets/base",
            "top": null,
            "grid_column": null,
            "overflow_y": null,
            "overflow_x": null,
            "grid_auto_flow": null,
            "grid_area": null,
            "grid_template_columns": null,
            "flex": null,
            "_model_name": "LayoutModel",
            "justify_items": null,
            "grid_row": null,
            "max_height": null,
            "align_content": null,
            "visibility": null,
            "align_self": null,
            "height": null,
            "min_height": null,
            "padding": null,
            "grid_auto_rows": null,
            "grid_gap": null,
            "max_width": null,
            "order": null,
            "_view_module_version": "1.2.0",
            "grid_template_areas": null,
            "object_position": null,
            "object_fit": null,
            "grid_auto_columns": null,
            "margin": null,
            "display": null,
            "left": null
          }
        },
        "39c8c986bb734b42b55648e204d194c2": {
          "model_module": "@jupyter-widgets/controls",
          "model_name": "HBoxModel",
          "state": {
            "_view_name": "HBoxView",
            "_dom_classes": [],
            "_model_name": "HBoxModel",
            "_view_module": "@jupyter-widgets/controls",
            "_model_module_version": "1.5.0",
            "_view_count": null,
            "_view_module_version": "1.5.0",
            "box_style": "",
            "layout": "IPY_MODEL_ba4bc3472b1a402da849c8677c3b06c2",
            "_model_module": "@jupyter-widgets/controls",
            "children": [
              "IPY_MODEL_c76db14397a046998607c5fc7b5eb8cc",
              "IPY_MODEL_e7f09fc1bf884f11abf9b412a448028a"
            ]
          }
        },
        "ba4bc3472b1a402da849c8677c3b06c2": {
          "model_module": "@jupyter-widgets/base",
          "model_name": "LayoutModel",
          "state": {
            "_view_name": "LayoutView",
            "grid_template_rows": null,
            "right": null,
            "justify_content": null,
            "_view_module": "@jupyter-widgets/base",
            "overflow": null,
            "_model_module_version": "1.2.0",
            "_view_count": null,
            "flex_flow": null,
            "width": null,
            "min_width": null,
            "border": null,
            "align_items": null,
            "bottom": null,
            "_model_module": "@jupyter-widgets/base",
            "top": null,
            "grid_column": null,
            "overflow_y": null,
            "overflow_x": null,
            "grid_auto_flow": null,
            "grid_area": null,
            "grid_template_columns": null,
            "flex": null,
            "_model_name": "LayoutModel",
            "justify_items": null,
            "grid_row": null,
            "max_height": null,
            "align_content": null,
            "visibility": null,
            "align_self": null,
            "height": null,
            "min_height": null,
            "padding": null,
            "grid_auto_rows": null,
            "grid_gap": null,
            "max_width": null,
            "order": null,
            "_view_module_version": "1.2.0",
            "grid_template_areas": null,
            "object_position": null,
            "object_fit": null,
            "grid_auto_columns": null,
            "margin": null,
            "display": null,
            "left": null
          }
        },
        "c76db14397a046998607c5fc7b5eb8cc": {
          "model_module": "@jupyter-widgets/controls",
          "model_name": "FloatProgressModel",
          "state": {
            "_view_name": "ProgressView",
            "style": "IPY_MODEL_a29966d6851543fb904c9a7d9bc62914",
            "_dom_classes": [],
            "description": "",
            "_model_name": "FloatProgressModel",
            "bar_style": "success",
            "max": 1,
            "_view_module": "@jupyter-widgets/controls",
            "_model_module_version": "1.5.0",
            "value": 1,
            "_view_count": null,
            "_view_module_version": "1.5.0",
            "orientation": "horizontal",
            "min": 0,
            "description_tooltip": null,
            "_model_module": "@jupyter-widgets/controls",
            "layout": "IPY_MODEL_9c813103cf784bcf98b99f5432dd0234"
          }
        },
        "e7f09fc1bf884f11abf9b412a448028a": {
          "model_module": "@jupyter-widgets/controls",
          "model_name": "HTMLModel",
          "state": {
            "_view_name": "HTMLView",
            "style": "IPY_MODEL_c9d51ca61f1d47ec9b4caf3690a15310",
            "_dom_classes": [],
            "description": "",
            "_model_name": "HTMLModel",
            "placeholder": "​",
            "_view_module": "@jupyter-widgets/controls",
            "_model_module_version": "1.5.0",
            "value": " 8192/? [00:00&lt;00:00, 12557.57it/s]",
            "_view_count": null,
            "_view_module_version": "1.5.0",
            "description_tooltip": null,
            "_model_module": "@jupyter-widgets/controls",
            "layout": "IPY_MODEL_7fe4dc90afef4bdd85ce6f3afcf52eb9"
          }
        },
        "a29966d6851543fb904c9a7d9bc62914": {
          "model_module": "@jupyter-widgets/controls",
          "model_name": "ProgressStyleModel",
          "state": {
            "_view_name": "StyleView",
            "_model_name": "ProgressStyleModel",
            "description_width": "initial",
            "_view_module": "@jupyter-widgets/base",
            "_model_module_version": "1.5.0",
            "_view_count": null,
            "_view_module_version": "1.2.0",
            "bar_color": null,
            "_model_module": "@jupyter-widgets/controls"
          }
        },
        "9c813103cf784bcf98b99f5432dd0234": {
          "model_module": "@jupyter-widgets/base",
          "model_name": "LayoutModel",
          "state": {
            "_view_name": "LayoutView",
            "grid_template_rows": null,
            "right": null,
            "justify_content": null,
            "_view_module": "@jupyter-widgets/base",
            "overflow": null,
            "_model_module_version": "1.2.0",
            "_view_count": null,
            "flex_flow": null,
            "width": null,
            "min_width": null,
            "border": null,
            "align_items": null,
            "bottom": null,
            "_model_module": "@jupyter-widgets/base",
            "top": null,
            "grid_column": null,
            "overflow_y": null,
            "overflow_x": null,
            "grid_auto_flow": null,
            "grid_area": null,
            "grid_template_columns": null,
            "flex": null,
            "_model_name": "LayoutModel",
            "justify_items": null,
            "grid_row": null,
            "max_height": null,
            "align_content": null,
            "visibility": null,
            "align_self": null,
            "height": null,
            "min_height": null,
            "padding": null,
            "grid_auto_rows": null,
            "grid_gap": null,
            "max_width": null,
            "order": null,
            "_view_module_version": "1.2.0",
            "grid_template_areas": null,
            "object_position": null,
            "object_fit": null,
            "grid_auto_columns": null,
            "margin": null,
            "display": null,
            "left": null
          }
        },
        "c9d51ca61f1d47ec9b4caf3690a15310": {
          "model_module": "@jupyter-widgets/controls",
          "model_name": "DescriptionStyleModel",
          "state": {
            "_view_name": "StyleView",
            "_model_name": "DescriptionStyleModel",
            "description_width": "",
            "_view_module": "@jupyter-widgets/base",
            "_model_module_version": "1.5.0",
            "_view_count": null,
            "_view_module_version": "1.2.0",
            "_model_module": "@jupyter-widgets/controls"
          }
        },
        "7fe4dc90afef4bdd85ce6f3afcf52eb9": {
          "model_module": "@jupyter-widgets/base",
          "model_name": "LayoutModel",
          "state": {
            "_view_name": "LayoutView",
            "grid_template_rows": null,
            "right": null,
            "justify_content": null,
            "_view_module": "@jupyter-widgets/base",
            "overflow": null,
            "_model_module_version": "1.2.0",
            "_view_count": null,
            "flex_flow": null,
            "width": null,
            "min_width": null,
            "border": null,
            "align_items": null,
            "bottom": null,
            "_model_module": "@jupyter-widgets/base",
            "top": null,
            "grid_column": null,
            "overflow_y": null,
            "overflow_x": null,
            "grid_auto_flow": null,
            "grid_area": null,
            "grid_template_columns": null,
            "flex": null,
            "_model_name": "LayoutModel",
            "justify_items": null,
            "grid_row": null,
            "max_height": null,
            "align_content": null,
            "visibility": null,
            "align_self": null,
            "height": null,
            "min_height": null,
            "padding": null,
            "grid_auto_rows": null,
            "grid_gap": null,
            "max_width": null,
            "order": null,
            "_view_module_version": "1.2.0",
            "grid_template_areas": null,
            "object_position": null,
            "object_fit": null,
            "grid_auto_columns": null,
            "margin": null,
            "display": null,
            "left": null
          }
        },
        "e854f0e32f694a199db2807ae97dd993": {
          "model_module": "@jupyter-widgets/controls",
          "model_name": "HBoxModel",
          "state": {
            "_view_name": "HBoxView",
            "_dom_classes": [],
            "_model_name": "HBoxModel",
            "_view_module": "@jupyter-widgets/controls",
            "_model_module_version": "1.5.0",
            "_view_count": null,
            "_view_module_version": "1.5.0",
            "box_style": "",
            "layout": "IPY_MODEL_9738285449924c87bff8555694031c93",
            "_model_module": "@jupyter-widgets/controls",
            "children": [
              "IPY_MODEL_61681a9a35ad4075abd7c1ed0ddd49e6",
              "IPY_MODEL_f67e33252a0b476784f70f33b2820754"
            ]
          }
        },
        "9738285449924c87bff8555694031c93": {
          "model_module": "@jupyter-widgets/base",
          "model_name": "LayoutModel",
          "state": {
            "_view_name": "LayoutView",
            "grid_template_rows": null,
            "right": null,
            "justify_content": null,
            "_view_module": "@jupyter-widgets/base",
            "overflow": null,
            "_model_module_version": "1.2.0",
            "_view_count": null,
            "flex_flow": null,
            "width": null,
            "min_width": null,
            "border": null,
            "align_items": null,
            "bottom": null,
            "_model_module": "@jupyter-widgets/base",
            "top": null,
            "grid_column": null,
            "overflow_y": null,
            "overflow_x": null,
            "grid_auto_flow": null,
            "grid_area": null,
            "grid_template_columns": null,
            "flex": null,
            "_model_name": "LayoutModel",
            "justify_items": null,
            "grid_row": null,
            "max_height": null,
            "align_content": null,
            "visibility": null,
            "align_self": null,
            "height": null,
            "min_height": null,
            "padding": null,
            "grid_auto_rows": null,
            "grid_gap": null,
            "max_width": null,
            "order": null,
            "_view_module_version": "1.2.0",
            "grid_template_areas": null,
            "object_position": null,
            "object_fit": null,
            "grid_auto_columns": null,
            "margin": null,
            "display": null,
            "left": null
          }
        },
        "61681a9a35ad4075abd7c1ed0ddd49e6": {
          "model_module": "@jupyter-widgets/controls",
          "model_name": "FloatProgressModel",
          "state": {
            "_view_name": "ProgressView",
            "style": "IPY_MODEL_ea06aecd138c4e42a5e40105c4aa3b73",
            "_dom_classes": [],
            "description": "Loss: 1.5191: 100%",
            "_model_name": "FloatProgressModel",
            "bar_style": "success",
            "max": 235,
            "_view_module": "@jupyter-widgets/controls",
            "_model_module_version": "1.5.0",
            "value": 235,
            "_view_count": null,
            "_view_module_version": "1.5.0",
            "orientation": "horizontal",
            "min": 0,
            "description_tooltip": null,
            "_model_module": "@jupyter-widgets/controls",
            "layout": "IPY_MODEL_0ba9a052af6743138b5aa256b2b0d550"
          }
        },
        "f67e33252a0b476784f70f33b2820754": {
          "model_module": "@jupyter-widgets/controls",
          "model_name": "HTMLModel",
          "state": {
            "_view_name": "HTMLView",
            "style": "IPY_MODEL_a6037b0914bd4be7ae15dcf9f5a6fc1a",
            "_dom_classes": [],
            "description": "",
            "_model_name": "HTMLModel",
            "placeholder": "​",
            "_view_module": "@jupyter-widgets/controls",
            "_model_module_version": "1.5.0",
            "value": " 235/235 [23:40&lt;00:00,  6.05s/it]",
            "_view_count": null,
            "_view_module_version": "1.5.0",
            "description_tooltip": null,
            "_model_module": "@jupyter-widgets/controls",
            "layout": "IPY_MODEL_be47591cb69d4adeb8a720ca06e95355"
          }
        },
        "ea06aecd138c4e42a5e40105c4aa3b73": {
          "model_module": "@jupyter-widgets/controls",
          "model_name": "ProgressStyleModel",
          "state": {
            "_view_name": "StyleView",
            "_model_name": "ProgressStyleModel",
            "description_width": "initial",
            "_view_module": "@jupyter-widgets/base",
            "_model_module_version": "1.5.0",
            "_view_count": null,
            "_view_module_version": "1.2.0",
            "bar_color": null,
            "_model_module": "@jupyter-widgets/controls"
          }
        },
        "0ba9a052af6743138b5aa256b2b0d550": {
          "model_module": "@jupyter-widgets/base",
          "model_name": "LayoutModel",
          "state": {
            "_view_name": "LayoutView",
            "grid_template_rows": null,
            "right": null,
            "justify_content": null,
            "_view_module": "@jupyter-widgets/base",
            "overflow": null,
            "_model_module_version": "1.2.0",
            "_view_count": null,
            "flex_flow": null,
            "width": null,
            "min_width": null,
            "border": null,
            "align_items": null,
            "bottom": null,
            "_model_module": "@jupyter-widgets/base",
            "top": null,
            "grid_column": null,
            "overflow_y": null,
            "overflow_x": null,
            "grid_auto_flow": null,
            "grid_area": null,
            "grid_template_columns": null,
            "flex": null,
            "_model_name": "LayoutModel",
            "justify_items": null,
            "grid_row": null,
            "max_height": null,
            "align_content": null,
            "visibility": null,
            "align_self": null,
            "height": null,
            "min_height": null,
            "padding": null,
            "grid_auto_rows": null,
            "grid_gap": null,
            "max_width": null,
            "order": null,
            "_view_module_version": "1.2.0",
            "grid_template_areas": null,
            "object_position": null,
            "object_fit": null,
            "grid_auto_columns": null,
            "margin": null,
            "display": null,
            "left": null
          }
        },
        "a6037b0914bd4be7ae15dcf9f5a6fc1a": {
          "model_module": "@jupyter-widgets/controls",
          "model_name": "DescriptionStyleModel",
          "state": {
            "_view_name": "StyleView",
            "_model_name": "DescriptionStyleModel",
            "description_width": "",
            "_view_module": "@jupyter-widgets/base",
            "_model_module_version": "1.5.0",
            "_view_count": null,
            "_view_module_version": "1.2.0",
            "_model_module": "@jupyter-widgets/controls"
          }
        },
        "be47591cb69d4adeb8a720ca06e95355": {
          "model_module": "@jupyter-widgets/base",
          "model_name": "LayoutModel",
          "state": {
            "_view_name": "LayoutView",
            "grid_template_rows": null,
            "right": null,
            "justify_content": null,
            "_view_module": "@jupyter-widgets/base",
            "overflow": null,
            "_model_module_version": "1.2.0",
            "_view_count": null,
            "flex_flow": null,
            "width": null,
            "min_width": null,
            "border": null,
            "align_items": null,
            "bottom": null,
            "_model_module": "@jupyter-widgets/base",
            "top": null,
            "grid_column": null,
            "overflow_y": null,
            "overflow_x": null,
            "grid_auto_flow": null,
            "grid_area": null,
            "grid_template_columns": null,
            "flex": null,
            "_model_name": "LayoutModel",
            "justify_items": null,
            "grid_row": null,
            "max_height": null,
            "align_content": null,
            "visibility": null,
            "align_self": null,
            "height": null,
            "min_height": null,
            "padding": null,
            "grid_auto_rows": null,
            "grid_gap": null,
            "max_width": null,
            "order": null,
            "_view_module_version": "1.2.0",
            "grid_template_areas": null,
            "object_position": null,
            "object_fit": null,
            "grid_auto_columns": null,
            "margin": null,
            "display": null,
            "left": null
          }
        },
        "e18d0cbb98df4f4d89bcdd580d8ae7ca": {
          "model_module": "@jupyter-widgets/controls",
          "model_name": "HBoxModel",
          "state": {
            "_view_name": "HBoxView",
            "_dom_classes": [],
            "_model_name": "HBoxModel",
            "_view_module": "@jupyter-widgets/controls",
            "_model_module_version": "1.5.0",
            "_view_count": null,
            "_view_module_version": "1.5.0",
            "box_style": "",
            "layout": "IPY_MODEL_effd8d651e6741b1b0a6b1dda877fbc7",
            "_model_module": "@jupyter-widgets/controls",
            "children": [
              "IPY_MODEL_9efcb7f710c24e00bf1f90807358462b",
              "IPY_MODEL_49f940ac8cdb46dd969001bd1b5461cb"
            ]
          }
        },
        "effd8d651e6741b1b0a6b1dda877fbc7": {
          "model_module": "@jupyter-widgets/base",
          "model_name": "LayoutModel",
          "state": {
            "_view_name": "LayoutView",
            "grid_template_rows": null,
            "right": null,
            "justify_content": null,
            "_view_module": "@jupyter-widgets/base",
            "overflow": null,
            "_model_module_version": "1.2.0",
            "_view_count": null,
            "flex_flow": null,
            "width": null,
            "min_width": null,
            "border": null,
            "align_items": null,
            "bottom": null,
            "_model_module": "@jupyter-widgets/base",
            "top": null,
            "grid_column": null,
            "overflow_y": null,
            "overflow_x": null,
            "grid_auto_flow": null,
            "grid_area": null,
            "grid_template_columns": null,
            "flex": null,
            "_model_name": "LayoutModel",
            "justify_items": null,
            "grid_row": null,
            "max_height": null,
            "align_content": null,
            "visibility": null,
            "align_self": null,
            "height": null,
            "min_height": null,
            "padding": null,
            "grid_auto_rows": null,
            "grid_gap": null,
            "max_width": null,
            "order": null,
            "_view_module_version": "1.2.0",
            "grid_template_areas": null,
            "object_position": null,
            "object_fit": null,
            "grid_auto_columns": null,
            "margin": null,
            "display": null,
            "left": null
          }
        },
        "9efcb7f710c24e00bf1f90807358462b": {
          "model_module": "@jupyter-widgets/controls",
          "model_name": "FloatProgressModel",
          "state": {
            "_view_name": "ProgressView",
            "style": "IPY_MODEL_1fe7049987cd4cc2b778407fe5c66117",
            "_dom_classes": [],
            "description": "Loss:  50%",
            "_model_name": "FloatProgressModel",
            "bar_style": "danger",
            "max": 60000,
            "_view_module": "@jupyter-widgets/controls",
            "_model_module_version": "1.5.0",
            "value": 30001,
            "_view_count": null,
            "_view_module_version": "1.5.0",
            "orientation": "horizontal",
            "min": 0,
            "description_tooltip": null,
            "_model_module": "@jupyter-widgets/controls",
            "layout": "IPY_MODEL_38a62d894f91428b99071377c7f8ee06"
          }
        },
        "49f940ac8cdb46dd969001bd1b5461cb": {
          "model_module": "@jupyter-widgets/controls",
          "model_name": "HTMLModel",
          "state": {
            "_view_name": "HTMLView",
            "style": "IPY_MODEL_babd2f4b4d874daaa46892794370e733",
            "_dom_classes": [],
            "description": "",
            "_model_name": "HTMLModel",
            "placeholder": "​",
            "_view_module": "@jupyter-widgets/controls",
            "_model_module_version": "1.5.0",
            "value": " 30001/60000 [19:00&lt;19:09, 26.10it/s]",
            "_view_count": null,
            "_view_module_version": "1.5.0",
            "description_tooltip": null,
            "_model_module": "@jupyter-widgets/controls",
            "layout": "IPY_MODEL_c8b428bc08fe4cc9b09ff1215a4ffb49"
          }
        },
        "1fe7049987cd4cc2b778407fe5c66117": {
          "model_module": "@jupyter-widgets/controls",
          "model_name": "ProgressStyleModel",
          "state": {
            "_view_name": "StyleView",
            "_model_name": "ProgressStyleModel",
            "description_width": "initial",
            "_view_module": "@jupyter-widgets/base",
            "_model_module_version": "1.5.0",
            "_view_count": null,
            "_view_module_version": "1.2.0",
            "bar_color": null,
            "_model_module": "@jupyter-widgets/controls"
          }
        },
        "38a62d894f91428b99071377c7f8ee06": {
          "model_module": "@jupyter-widgets/base",
          "model_name": "LayoutModel",
          "state": {
            "_view_name": "LayoutView",
            "grid_template_rows": null,
            "right": null,
            "justify_content": null,
            "_view_module": "@jupyter-widgets/base",
            "overflow": null,
            "_model_module_version": "1.2.0",
            "_view_count": null,
            "flex_flow": null,
            "width": null,
            "min_width": null,
            "border": null,
            "align_items": null,
            "bottom": null,
            "_model_module": "@jupyter-widgets/base",
            "top": null,
            "grid_column": null,
            "overflow_y": null,
            "overflow_x": null,
            "grid_auto_flow": null,
            "grid_area": null,
            "grid_template_columns": null,
            "flex": null,
            "_model_name": "LayoutModel",
            "justify_items": null,
            "grid_row": null,
            "max_height": null,
            "align_content": null,
            "visibility": null,
            "align_self": null,
            "height": null,
            "min_height": null,
            "padding": null,
            "grid_auto_rows": null,
            "grid_gap": null,
            "max_width": null,
            "order": null,
            "_view_module_version": "1.2.0",
            "grid_template_areas": null,
            "object_position": null,
            "object_fit": null,
            "grid_auto_columns": null,
            "margin": null,
            "display": null,
            "left": null
          }
        },
        "babd2f4b4d874daaa46892794370e733": {
          "model_module": "@jupyter-widgets/controls",
          "model_name": "DescriptionStyleModel",
          "state": {
            "_view_name": "StyleView",
            "_model_name": "DescriptionStyleModel",
            "description_width": "",
            "_view_module": "@jupyter-widgets/base",
            "_model_module_version": "1.5.0",
            "_view_count": null,
            "_view_module_version": "1.2.0",
            "_model_module": "@jupyter-widgets/controls"
          }
        },
        "c8b428bc08fe4cc9b09ff1215a4ffb49": {
          "model_module": "@jupyter-widgets/base",
          "model_name": "LayoutModel",
          "state": {
            "_view_name": "LayoutView",
            "grid_template_rows": null,
            "right": null,
            "justify_content": null,
            "_view_module": "@jupyter-widgets/base",
            "overflow": null,
            "_model_module_version": "1.2.0",
            "_view_count": null,
            "flex_flow": null,
            "width": null,
            "min_width": null,
            "border": null,
            "align_items": null,
            "bottom": null,
            "_model_module": "@jupyter-widgets/base",
            "top": null,
            "grid_column": null,
            "overflow_y": null,
            "overflow_x": null,
            "grid_auto_flow": null,
            "grid_area": null,
            "grid_template_columns": null,
            "flex": null,
            "_model_name": "LayoutModel",
            "justify_items": null,
            "grid_row": null,
            "max_height": null,
            "align_content": null,
            "visibility": null,
            "align_self": null,
            "height": null,
            "min_height": null,
            "padding": null,
            "grid_auto_rows": null,
            "grid_gap": null,
            "max_width": null,
            "order": null,
            "_view_module_version": "1.2.0",
            "grid_template_areas": null,
            "object_position": null,
            "object_fit": null,
            "grid_auto_columns": null,
            "margin": null,
            "display": null,
            "left": null
          }
        },
        "3f637be30618497bb66296add6294dca": {
          "model_module": "@jupyter-widgets/controls",
          "model_name": "HBoxModel",
          "state": {
            "_view_name": "HBoxView",
            "_dom_classes": [],
            "_model_name": "HBoxModel",
            "_view_module": "@jupyter-widgets/controls",
            "_model_module_version": "1.5.0",
            "_view_count": null,
            "_view_module_version": "1.5.0",
            "box_style": "",
            "layout": "IPY_MODEL_068bde0b69e74b7ea9989b19bb616dc3",
            "_model_module": "@jupyter-widgets/controls",
            "children": [
              "IPY_MODEL_ecfb19285f4a489cade471859fb92352",
              "IPY_MODEL_d75a39a30f574a6dbffef54810ae9440"
            ]
          }
        },
        "068bde0b69e74b7ea9989b19bb616dc3": {
          "model_module": "@jupyter-widgets/base",
          "model_name": "LayoutModel",
          "state": {
            "_view_name": "LayoutView",
            "grid_template_rows": null,
            "right": null,
            "justify_content": null,
            "_view_module": "@jupyter-widgets/base",
            "overflow": null,
            "_model_module_version": "1.2.0",
            "_view_count": null,
            "flex_flow": null,
            "width": null,
            "min_width": null,
            "border": null,
            "align_items": null,
            "bottom": null,
            "_model_module": "@jupyter-widgets/base",
            "top": null,
            "grid_column": null,
            "overflow_y": null,
            "overflow_x": null,
            "grid_auto_flow": null,
            "grid_area": null,
            "grid_template_columns": null,
            "flex": null,
            "_model_name": "LayoutModel",
            "justify_items": null,
            "grid_row": null,
            "max_height": null,
            "align_content": null,
            "visibility": null,
            "align_self": null,
            "height": null,
            "min_height": null,
            "padding": null,
            "grid_auto_rows": null,
            "grid_gap": null,
            "max_width": null,
            "order": null,
            "_view_module_version": "1.2.0",
            "grid_template_areas": null,
            "object_position": null,
            "object_fit": null,
            "grid_auto_columns": null,
            "margin": null,
            "display": null,
            "left": null
          }
        },
        "ecfb19285f4a489cade471859fb92352": {
          "model_module": "@jupyter-widgets/controls",
          "model_name": "FloatProgressModel",
          "state": {
            "_view_name": "ProgressView",
            "style": "IPY_MODEL_1a79cade042a43ffa32c1183b2ef3417",
            "_dom_classes": [],
            "description": "Loss:  15%",
            "_model_name": "FloatProgressModel",
            "bar_style": "danger",
            "max": 60000,
            "_view_module": "@jupyter-widgets/controls",
            "_model_module_version": "1.5.0",
            "value": 9000,
            "_view_count": null,
            "_view_module_version": "1.5.0",
            "orientation": "horizontal",
            "min": 0,
            "description_tooltip": null,
            "_model_module": "@jupyter-widgets/controls",
            "layout": "IPY_MODEL_51110e1d855a4740b43caed5c29b29f5"
          }
        },
        "d75a39a30f574a6dbffef54810ae9440": {
          "model_module": "@jupyter-widgets/controls",
          "model_name": "HTMLModel",
          "state": {
            "_view_name": "HTMLView",
            "style": "IPY_MODEL_084a7a65bb4345ef974916de5ab5bf11",
            "_dom_classes": [],
            "description": "",
            "_model_name": "HTMLModel",
            "placeholder": "​",
            "_view_module": "@jupyter-widgets/controls",
            "_model_module_version": "1.5.0",
            "value": " 9000/60000 [05:53&lt;28:03, 30.29it/s]",
            "_view_count": null,
            "_view_module_version": "1.5.0",
            "description_tooltip": null,
            "_model_module": "@jupyter-widgets/controls",
            "layout": "IPY_MODEL_a60498f82ca442629410ce3bdb84b87a"
          }
        },
        "1a79cade042a43ffa32c1183b2ef3417": {
          "model_module": "@jupyter-widgets/controls",
          "model_name": "ProgressStyleModel",
          "state": {
            "_view_name": "StyleView",
            "_model_name": "ProgressStyleModel",
            "description_width": "initial",
            "_view_module": "@jupyter-widgets/base",
            "_model_module_version": "1.5.0",
            "_view_count": null,
            "_view_module_version": "1.2.0",
            "bar_color": null,
            "_model_module": "@jupyter-widgets/controls"
          }
        },
        "51110e1d855a4740b43caed5c29b29f5": {
          "model_module": "@jupyter-widgets/base",
          "model_name": "LayoutModel",
          "state": {
            "_view_name": "LayoutView",
            "grid_template_rows": null,
            "right": null,
            "justify_content": null,
            "_view_module": "@jupyter-widgets/base",
            "overflow": null,
            "_model_module_version": "1.2.0",
            "_view_count": null,
            "flex_flow": null,
            "width": null,
            "min_width": null,
            "border": null,
            "align_items": null,
            "bottom": null,
            "_model_module": "@jupyter-widgets/base",
            "top": null,
            "grid_column": null,
            "overflow_y": null,
            "overflow_x": null,
            "grid_auto_flow": null,
            "grid_area": null,
            "grid_template_columns": null,
            "flex": null,
            "_model_name": "LayoutModel",
            "justify_items": null,
            "grid_row": null,
            "max_height": null,
            "align_content": null,
            "visibility": null,
            "align_self": null,
            "height": null,
            "min_height": null,
            "padding": null,
            "grid_auto_rows": null,
            "grid_gap": null,
            "max_width": null,
            "order": null,
            "_view_module_version": "1.2.0",
            "grid_template_areas": null,
            "object_position": null,
            "object_fit": null,
            "grid_auto_columns": null,
            "margin": null,
            "display": null,
            "left": null
          }
        },
        "084a7a65bb4345ef974916de5ab5bf11": {
          "model_module": "@jupyter-widgets/controls",
          "model_name": "DescriptionStyleModel",
          "state": {
            "_view_name": "StyleView",
            "_model_name": "DescriptionStyleModel",
            "description_width": "",
            "_view_module": "@jupyter-widgets/base",
            "_model_module_version": "1.5.0",
            "_view_count": null,
            "_view_module_version": "1.2.0",
            "_model_module": "@jupyter-widgets/controls"
          }
        },
        "a60498f82ca442629410ce3bdb84b87a": {
          "model_module": "@jupyter-widgets/base",
          "model_name": "LayoutModel",
          "state": {
            "_view_name": "LayoutView",
            "grid_template_rows": null,
            "right": null,
            "justify_content": null,
            "_view_module": "@jupyter-widgets/base",
            "overflow": null,
            "_model_module_version": "1.2.0",
            "_view_count": null,
            "flex_flow": null,
            "width": null,
            "min_width": null,
            "border": null,
            "align_items": null,
            "bottom": null,
            "_model_module": "@jupyter-widgets/base",
            "top": null,
            "grid_column": null,
            "overflow_y": null,
            "overflow_x": null,
            "grid_auto_flow": null,
            "grid_area": null,
            "grid_template_columns": null,
            "flex": null,
            "_model_name": "LayoutModel",
            "justify_items": null,
            "grid_row": null,
            "max_height": null,
            "align_content": null,
            "visibility": null,
            "align_self": null,
            "height": null,
            "min_height": null,
            "padding": null,
            "grid_auto_rows": null,
            "grid_gap": null,
            "max_width": null,
            "order": null,
            "_view_module_version": "1.2.0",
            "grid_template_areas": null,
            "object_position": null,
            "object_fit": null,
            "grid_auto_columns": null,
            "margin": null,
            "display": null,
            "left": null
          }
        }
      }
    }
  },
  "cells": [
    {
      "cell_type": "markdown",
      "metadata": {
        "id": "hVGObJQdpTvX"
      },
      "source": [
        "### Import Dependencies"
      ]
    },
    {
      "cell_type": "code",
      "metadata": {
        "id": "8lUlVWOOo0xy"
      },
      "source": [
        "# Import necessary libraries\r\n",
        "import os\r\n",
        "import datetime\r\n",
        "import copy\r\n",
        "import re\r\n",
        "import yaml\r\n",
        "import uuid\r\n",
        "import warnings\r\n",
        "import time\r\n",
        "import inspect\r\n",
        "# Dataset manipulation libraries\r\n",
        "import numpy as np\r\n",
        "import pandas as pd\r\n",
        "from functools import partial, reduce\r\n",
        "from random import shuffle\r\n",
        "import random\r\n",
        "# Pytorch Libraries\r\n",
        "import torch\r\n",
        "from torch import nn, optim\r\n",
        "from torch import nn\r\n",
        "from torch.nn import functional as F\r\n",
        "from torch.utils.data.dataset import Dataset\r\n",
        "from torch.utils.data import DataLoader\r\n",
        "from torch.utils.data import DataLoader\r\n",
        "from torchvision.models import resnet\r\n",
        "from torchvision.transforms import Compose, ToTensor, Normalize, Resize\r\n",
        "from torchvision.models.resnet import ResNet, BasicBlock\r\n",
        "from torchvision.datasets import MNIST\r\n",
        "import tensorflow as tf\r\n",
        "from tqdm.autonotebook import tqdm\r\n",
        "from sklearn.metrics import precision_score, recall_score, f1_score, accuracy_score\r\n",
        "from sklearn import metrics as mtx\r\n",
        "from sklearn import model_selection as ms"
      ],
      "execution_count": 1,
      "outputs": []
    },
    {
      "cell_type": "markdown",
      "metadata": {
        "id": "zBGIeE1op5mH"
      },
      "source": [
        "### Dataset"
      ]
    },
    {
      "cell_type": "code",
      "metadata": {
        "id": "rRWGI4g_p7Rv"
      },
      "source": [
        "def get_data_loaders(train_batch_size, val_batch_size):\r\n",
        "    mnist = MNIST(download=True, train=True, root=\".\").train_data.float()\r\n",
        "    \r\n",
        "    data_transform = Compose([ Resize((25, 25)),ToTensor(), Normalize((mnist.mean()/255,), (mnist.std()/255,))])\r\n",
        "\r\n",
        "    train_loader = DataLoader(MNIST(download=True, root=\".\", transform=data_transform, train=True),\r\n",
        "                              batch_size=train_batch_size, shuffle=True)\r\n",
        "    val_loader = DataLoader(MNIST(download=False, root=\".\", transform=data_transform, train=False),\r\n",
        "                            batch_size=val_batch_size, shuffle=False)\r\n",
        "    return train_loader, val_loader"
      ],
      "execution_count": 2,
      "outputs": []
    },
    {
      "cell_type": "code",
      "metadata": {
        "id": "Txg-ThXNtEkS",
        "colab": {
          "base_uri": "https://localhost:8080/",
          "height": 431,
          "referenced_widgets": [
            "dc1e264524b34b9986f4bac640eaa587",
            "45996d4235b6458e8e588b4a1205d8cd",
            "b00e2d48a1214f789704b91e332882b0",
            "fd94d7fe8995462db3707968424a01ec",
            "db6b37e24b694f79838b8b15f4473c2d",
            "677c9961306b41f883efbd72ed5429f4",
            "296687b5aa4245a8bbb83876ba92893b",
            "bee316d1be4345a3a2099cf50acc42b7",
            "1ebe8787a4e24774a2a3a946b8b61c19",
            "0b3d688e32cf46daa05167c35631bbe0",
            "a4cc0ae9795d474b8c3b68ef7ef2c4c0",
            "3590f0b8210d41829858fd874ba3004a",
            "9c59d23d11e746458d290613540bdd4d",
            "df015126fae54d728f8a828e1f5db444",
            "ec6eed7421b0477082e36dc6b61d3b1e",
            "96265b6f5d7f4b4799ecafc779e1cbf3",
            "fc22d42534bd461090e5959bdb900036",
            "f6017a8456de4ec4869ebcf57cb7aaf8",
            "ce653894160949d6a065934e458d8cd6",
            "feff537e178e4daea45b884b82e93682",
            "bacd4d742f3a49b996001200c84b1984",
            "a28de32ef8694defa7ad636522eaa58c",
            "901c3625184c4cdaaaaf9f80c0ff0a46",
            "75a6c0b0b00b469fac5e445c7cb91d83",
            "39c8c986bb734b42b55648e204d194c2",
            "ba4bc3472b1a402da849c8677c3b06c2",
            "c76db14397a046998607c5fc7b5eb8cc",
            "e7f09fc1bf884f11abf9b412a448028a",
            "a29966d6851543fb904c9a7d9bc62914",
            "9c813103cf784bcf98b99f5432dd0234",
            "c9d51ca61f1d47ec9b4caf3690a15310",
            "7fe4dc90afef4bdd85ce6f3afcf52eb9"
          ]
        },
        "outputId": "0e2c3650-b9a1-4c3c-bc31-788e07b51af1"
      },
      "source": [
        "train_batch_size = 256 # Batch-size of the training data\r\n",
        "val_batch_size = 256 # Batch-size of the validation data\r\n",
        "\r\n",
        "train_loader, valid_loader = get_data_loaders(train_batch_size, val_batch_size)"
      ],
      "execution_count": 3,
      "outputs": [
        {
          "output_type": "stream",
          "text": [
            "Downloading http://yann.lecun.com/exdb/mnist/train-images-idx3-ubyte.gz to ./MNIST/raw/train-images-idx3-ubyte.gz\n"
          ],
          "name": "stdout"
        },
        {
          "output_type": "display_data",
          "data": {
            "application/vnd.jupyter.widget-view+json": {
              "model_id": "dc1e264524b34b9986f4bac640eaa587",
              "version_minor": 0,
              "version_major": 2
            },
            "text/plain": [
              "HBox(children=(FloatProgress(value=1.0, bar_style='info', max=1.0), HTML(value='')))"
            ]
          },
          "metadata": {
            "tags": []
          }
        },
        {
          "output_type": "stream",
          "text": [
            "Extracting ./MNIST/raw/train-images-idx3-ubyte.gz to ./MNIST/raw\n",
            "Downloading http://yann.lecun.com/exdb/mnist/train-labels-idx1-ubyte.gz to ./MNIST/raw/train-labels-idx1-ubyte.gz\n"
          ],
          "name": "stdout"
        },
        {
          "output_type": "display_data",
          "data": {
            "application/vnd.jupyter.widget-view+json": {
              "model_id": "1ebe8787a4e24774a2a3a946b8b61c19",
              "version_minor": 0,
              "version_major": 2
            },
            "text/plain": [
              "HBox(children=(FloatProgress(value=1.0, bar_style='info', max=1.0), HTML(value='')))"
            ]
          },
          "metadata": {
            "tags": []
          }
        },
        {
          "output_type": "stream",
          "text": [
            "Extracting ./MNIST/raw/train-labels-idx1-ubyte.gz to ./MNIST/raw\n",
            "Downloading http://yann.lecun.com/exdb/mnist/t10k-images-idx3-ubyte.gz to ./MNIST/raw/t10k-images-idx3-ubyte.gz\n",
            "\n"
          ],
          "name": "stdout"
        },
        {
          "output_type": "display_data",
          "data": {
            "application/vnd.jupyter.widget-view+json": {
              "model_id": "fc22d42534bd461090e5959bdb900036",
              "version_minor": 0,
              "version_major": 2
            },
            "text/plain": [
              "HBox(children=(FloatProgress(value=1.0, bar_style='info', max=1.0), HTML(value='')))"
            ]
          },
          "metadata": {
            "tags": []
          }
        },
        {
          "output_type": "stream",
          "text": [
            "Extracting ./MNIST/raw/t10k-images-idx3-ubyte.gz to ./MNIST/raw\n",
            "Downloading http://yann.lecun.com/exdb/mnist/t10k-labels-idx1-ubyte.gz to ./MNIST/raw/t10k-labels-idx1-ubyte.gz\n"
          ],
          "name": "stdout"
        },
        {
          "output_type": "display_data",
          "data": {
            "application/vnd.jupyter.widget-view+json": {
              "model_id": "39c8c986bb734b42b55648e204d194c2",
              "version_minor": 0,
              "version_major": 2
            },
            "text/plain": [
              "HBox(children=(FloatProgress(value=1.0, bar_style='info', max=1.0), HTML(value='')))"
            ]
          },
          "metadata": {
            "tags": []
          }
        },
        {
          "output_type": "stream",
          "text": [
            "Extracting ./MNIST/raw/t10k-labels-idx1-ubyte.gz to ./MNIST/raw\n",
            "Processing...\n",
            "Done!\n"
          ],
          "name": "stdout"
        },
        {
          "output_type": "stream",
          "text": [
            "/usr/local/lib/python3.6/dist-packages/torchvision/datasets/mnist.py:480: UserWarning: The given NumPy array is not writeable, and PyTorch does not support non-writeable tensors. This means you can write to the underlying (supposedly non-writeable) NumPy array using the tensor. You may want to copy the array to protect its data or make it writeable before converting it to a tensor. This type of warning will be suppressed for the rest of this program. (Triggered internally at  /pytorch/torch/csrc/utils/tensor_numpy.cpp:141.)\n",
            "  return torch.from_numpy(parsed.astype(m[2], copy=False)).view(*s)\n",
            "/usr/local/lib/python3.6/dist-packages/torchvision/datasets/mnist.py:58: UserWarning: train_data has been renamed data\n",
            "  warnings.warn(\"train_data has been renamed data\")\n"
          ],
          "name": "stderr"
        }
      ]
    },
    {
      "cell_type": "markdown",
      "metadata": {
        "id": "qhelUCICtHqP"
      },
      "source": [
        "### RESNET"
      ]
    },
    {
      "cell_type": "code",
      "metadata": {
        "id": "JHgDfjV-tFYA"
      },
      "source": [
        "class MnistResNet(ResNet):\r\n",
        "    def __init__(self):\r\n",
        "        super(MnistResNet, self).__init__(BasicBlock, [2, 2, 2, 2], num_classes=10)\r\n",
        "        self.conv1 = torch.nn.Conv2d(1, 64, kernel_size=(7, 7), stride=(2, 2), padding=(3, 3), bias=False)\r\n",
        "        \r\n",
        "    def forward(self, x):\r\n",
        "        return torch.softmax(super(MnistResNet, self).forward(x), dim=-1)"
      ],
      "execution_count": 4,
      "outputs": []
    },
    {
      "cell_type": "markdown",
      "metadata": {
        "id": "kYGB-oYntPsW"
      },
      "source": [
        "### Calculating the metrices: precision, recall, accuracy"
      ]
    },
    {
      "cell_type": "code",
      "metadata": {
        "id": "4T7qrEO_tMkt",
        "colab": {
          "base_uri": "https://localhost:8080/"
        },
        "outputId": "d0ae58ec-c120-4604-f13d-b5b2e40b6304"
      },
      "source": [
        "def calculate_metric(metric_fn, true_y, pred_y):\r\n",
        "    # multi class problems need to have averaging method\r\n",
        "    if \"average\" in inspect.getfullargspec(metric_fn).args:\r\n",
        "        return metric_fn(true_y, pred_y, average=\"macro\")\r\n",
        "    else:\r\n",
        "        return metric_fn(true_y, pred_y)\r\n",
        "    \r\n",
        "def print_scores(p, r, f1, a, batch_size):\r\n",
        "    # just an utility printing function\r\n",
        "    for name, scores in zip((\"precision\", \"recall\", \"F1\", \"accuracy\"), (p, r, f1, a)):\r\n",
        "        print(f\"\\t{name.rjust(14, ' ')}: {sum(scores)/batch_size:.4f}\")"
      ],
      "execution_count": 5,
      "outputs": [
        {
          "output_type": "stream",
          "text": [
            "\n"
          ],
          "name": "stdout"
        }
      ]
    },
    {
      "cell_type": "markdown",
      "metadata": {
        "id": "sIg10jqStXmu"
      },
      "source": [
        "### Train model"
      ]
    },
    {
      "cell_type": "code",
      "metadata": {
        "id": "Wsp8vnfBtXVr",
        "colab": {
          "base_uri": "https://localhost:8080/",
          "height": 244,
          "referenced_widgets": [
            "e854f0e32f694a199db2807ae97dd993",
            "9738285449924c87bff8555694031c93",
            "61681a9a35ad4075abd7c1ed0ddd49e6",
            "f67e33252a0b476784f70f33b2820754",
            "ea06aecd138c4e42a5e40105c4aa3b73",
            "0ba9a052af6743138b5aa256b2b0d550",
            "a6037b0914bd4be7ae15dcf9f5a6fc1a",
            "be47591cb69d4adeb8a720ca06e95355"
          ]
        },
        "outputId": "75e634a5-8a4f-4ff3-93b2-9a93839d242e"
      },
      "source": [
        "start_ts = time.time()\r\n",
        "device = torch.device(\"cuda:0\" if torch.cuda.is_available() else \"cpu\")\r\n",
        "\r\n",
        "\r\n",
        "# model:\r\n",
        "model = MnistResNet().to(device)\r\n",
        "\r\n",
        "# params you need to specify:\r\n",
        "epochs = 1\r\n",
        "train_loader, val_loader = get_data_loaders(train_batch_size, val_batch_size)\r\n",
        "loss_function = nn.CrossEntropyLoss() # your loss function, cross entropy works well for multi-class problems\r\n",
        "\r\n",
        "# optimizer, I've used Adadelta, as it wokrs well without any magic numbers\r\n",
        "optimizer = optim.Adadelta(model.parameters())\r\n",
        "\r\n",
        "\r\n",
        "losses = []\r\n",
        "batches = len(train_loader)\r\n",
        "val_batches = len(val_loader)\r\n",
        "\r\n",
        "# loop for every epoch (training + evaluation)\r\n",
        "for epoch in range(epochs):\r\n",
        "    total_loss = 0\r\n",
        "\r\n",
        "    # progress bar (works in Jupyter notebook too!)\r\n",
        "    progress = tqdm(enumerate(train_loader), desc=\"Loss: \", total=batches)\r\n",
        "\r\n",
        "    # ----------------- TRAINING  -------------------- \r\n",
        "    # set model to training\r\n",
        "    model.train()\r\n",
        "    \r\n",
        "    for i, data in progress:\r\n",
        "        X, y = data[0].to(device), data[1].to(device)\r\n",
        "        # training step for single batch\r\n",
        "        model.zero_grad() # to make sure that all the grads are 0 \r\n",
        "        \"\"\"\r\n",
        "        model.zero_grad() and optimizer.zero_grad() are the same \r\n",
        "        IF all your model parameters are in that optimizer. \r\n",
        "        I found it is safer to call model.zero_grad() to make sure all grads are zero, \r\n",
        "        e.g. if you have two or more optimizers for one model.\r\n",
        "\r\n",
        "        \"\"\"\r\n",
        "        outputs = model(X) # forward\r\n",
        "        loss = loss_function(outputs, y) # get loss\r\n",
        "        loss.backward() # accumulates the gradient (by addition) for each parameter.\r\n",
        "        optimizer.step() # performs a parameter update based on the current gradient \r\n",
        "\r\n",
        "        # getting training quality data\r\n",
        "        current_loss = loss.item()\r\n",
        "        total_loss += current_loss\r\n",
        "\r\n",
        "        # updating progress bar\r\n",
        "        progress.set_description(\"Loss: {:.4f}\".format(total_loss/(i+1)))\r\n",
        "        \r\n",
        "    # releasing unceseccary memory in GPU\r\n",
        "    if torch.cuda.is_available():\r\n",
        "        torch.cuda.empty_cache()\r\n",
        "    \r\n",
        "    # ----------------- VALIDATION  ----------------- \r\n",
        "    val_losses = 0\r\n",
        "    precision, recall, f1, accuracy = [], [], [], []\r\n",
        "    \r\n",
        "    # set model to evaluating (testing)\r\n",
        "    model.eval()\r\n",
        "    with torch.no_grad():\r\n",
        "        for i, data in enumerate(val_loader):\r\n",
        "            X, y = data[0].to(device), data[1].to(device)\r\n",
        "\r\n",
        "            outputs = model(X) # this get's the prediction from the network\r\n",
        "\r\n",
        "            val_losses += loss_function(outputs, y)\r\n",
        "\r\n",
        "            predicted_classes = torch.max(outputs, 1)[1] # get class from network's prediction\r\n",
        "            \r\n",
        "            # calculate P/R/F1/A metrics for batch\r\n",
        "            for acc, metric in zip((precision, recall, f1, accuracy), \r\n",
        "                                   (precision_score, recall_score, f1_score, accuracy_score)):\r\n",
        "                acc.append(\r\n",
        "                    calculate_metric(metric, y.cpu(), predicted_classes.cpu())\r\n",
        "                )\r\n",
        "          \r\n",
        "    print(f\"Epoch {epoch+1}/{epochs}, training loss: {total_loss/batches}, validation loss: {val_losses/val_batches}\")\r\n",
        "    print_scores(precision, recall, f1, accuracy, val_batches)\r\n",
        "    losses.append(total_loss/batches) # for plotting learning curve\r\n",
        "print(f\"Training time: {time.time()-start_ts}s\")"
      ],
      "execution_count": 6,
      "outputs": [
        {
          "output_type": "stream",
          "text": [
            "/usr/local/lib/python3.6/dist-packages/torchvision/datasets/mnist.py:58: UserWarning: train_data has been renamed data\n",
            "  warnings.warn(\"train_data has been renamed data\")\n"
          ],
          "name": "stderr"
        },
        {
          "output_type": "display_data",
          "data": {
            "application/vnd.jupyter.widget-view+json": {
              "model_id": "e854f0e32f694a199db2807ae97dd993",
              "version_minor": 0,
              "version_major": 2
            },
            "text/plain": [
              "HBox(children=(FloatProgress(value=0.0, description='Loss: ', max=235.0, style=ProgressStyle(description_width…"
            ]
          },
          "metadata": {
            "tags": []
          }
        },
        {
          "output_type": "stream",
          "text": [
            "\n",
            "Epoch 1/1, training loss: 1.519118976085744, validation loss: 1.485314965248108\n",
            "\t     precision: 0.9754\n",
            "\t        recall: 0.9764\n",
            "\t            F1: 0.9750\n",
            "\t      accuracy: 0.9771\n",
            "Training time: 1177.5537991523743s\n"
          ],
          "name": "stdout"
        },
        {
          "output_type": "stream",
          "text": [
            "/usr/local/lib/python3.6/dist-packages/sklearn/metrics/_classification.py:1272: UndefinedMetricWarning: Precision is ill-defined and being set to 0.0 in labels with no predicted samples. Use `zero_division` parameter to control this behavior.\n",
            "  _warn_prf(average, modifier, msg_start, len(result))\n"
          ],
          "name": "stderr"
        }
      ]
    },
    {
      "cell_type": "markdown",
      "metadata": {
        "id": "kTHeoBR2tjyl"
      },
      "source": [
        "### Save model"
      ]
    },
    {
      "cell_type": "code",
      "metadata": {
        "id": "VubrtjrotpLo"
      },
      "source": [
        "torch.save(model.state_dict(), 'mnist_state.pt')"
      ],
      "execution_count": 7,
      "outputs": []
    },
    {
      "cell_type": "markdown",
      "metadata": {
        "id": "j0PFVUlqtrth"
      },
      "source": [
        "### Split into  train and test, slice and normalize"
      ]
    },
    {
      "cell_type": "code",
      "metadata": {
        "id": "sofexfkzt1BN",
        "colab": {
          "base_uri": "https://localhost:8080/"
        },
        "outputId": "c8280d61-2cf6-4aba-d658-a21e2485e1ea"
      },
      "source": [
        "(x_train, y_train), (x_test, y_test) = tf.keras.datasets.mnist.load_data()\r\n",
        "x_train = x_train[:30001]\r\n",
        "y_train = y_train[:30001]\r\n",
        "x_test = x_test[:9000]\r\n",
        "y_test = y_test[:9000]\r\n",
        "x_train = x_train.astype('float32')\r\n",
        "x_test = x_test.astype('float32')\r\n",
        "x_train /= 255\r\n",
        "x_test /= 255\r\n",
        "print('x_train shape:', x_train.shape)\r\n",
        "print('Number of images in x_train', x_train.shape[0])\r\n",
        "print('Number of images in x_test', x_test.shape[0])\r\n",
        "\r\n",
        "instance_index_label = [(i, y_train[i]) for i in range(x_train.shape[0])]\r\n",
        "instance_index_label_test = [(i, y_test[i]) for i in range(x_test.shape[0])]\r\n",
        "# find the index if label is 1\r\n",
        "find_index = [instance_index_label[i][0] for i in range(len(instance_index_label)) if instance_index_label[i][1]==1]\r\n",
        "# find the index if label is 1\r\n",
        "find_index_test = [instance_index_label_test[i][0] for i in range(len(instance_index_label_test))\r\n",
        "                   if instance_index_label_test[i][1]==1]"
      ],
      "execution_count": 8,
      "outputs": [
        {
          "output_type": "stream",
          "text": [
            "Downloading data from https://storage.googleapis.com/tensorflow/tf-keras-datasets/mnist.npz\n",
            "11493376/11490434 [==============================] - 0s 0us/step\n",
            "x_train shape: (30001, 28, 28)\n",
            "Number of images in x_train 30001\n",
            "Number of images in x_test 9000\n"
          ],
          "name": "stdout"
        }
      ]
    },
    {
      "cell_type": "code",
      "metadata": {
        "colab": {
          "base_uri": "https://localhost:8080/"
        },
        "id": "0FwD3MhiYl-6",
        "outputId": "b69b03b0-bb0b-4c79-ce0a-1d41f45bb5a9"
      },
      "source": [
        "print('index:', instance_index_label[0][0]) #index\r\n",
        "print('label:', instance_index_label[0][1]) #label"
      ],
      "execution_count": 9,
      "outputs": [
        {
          "output_type": "stream",
          "text": [
            "index: 0\n",
            "label: 5\n"
          ],
          "name": "stdout"
        }
      ]
    },
    {
      "cell_type": "code",
      "metadata": {
        "id": "2wfokuGSYpq9"
      },
      "source": [
        "import torch\r\n",
        "from torchvision.models.resnet import ResNet, BasicBlock\r\n",
        "class MnistResNet(ResNet):\r\n",
        "    def __init__(self):\r\n",
        "        super(MnistResNet, self).__init__(BasicBlock, [2, 2, 2, 2], num_classes=10)\r\n",
        "        self.conv1 = torch.nn.Conv2d(1, 64, kernel_size=(7, 7), stride=(2, 2), padding=(3, 3), bias=False)\r\n",
        "        \r\n",
        "    def forward(self, x):\r\n",
        "        return torch.softmax(super(MnistResNet, self).forward(x), dim=-1)"
      ],
      "execution_count": 10,
      "outputs": []
    },
    {
      "cell_type": "markdown",
      "metadata": {
        "id": "4OA4-OqLuKg2"
      },
      "source": [
        "### Load pre-train model"
      ]
    },
    {
      "cell_type": "code",
      "metadata": {
        "colab": {
          "base_uri": "https://localhost:8080/"
        },
        "id": "BixdSQIpYwlI",
        "outputId": "d95e2415-65e8-4ca7-d828-8239bcb220ad"
      },
      "source": [
        "model = MnistResNet()\r\n",
        "model.load_state_dict(torch.load('mnist_state.pt'))\r\n",
        "body = nn.Sequential(*list(model.children()))\r\n",
        "# extract the last layer\r\n",
        "model = body[:9]\r\n",
        "# the model we will use\r\n",
        "model.eval()"
      ],
      "execution_count": 11,
      "outputs": [
        {
          "output_type": "execute_result",
          "data": {
            "text/plain": [
              "Sequential(\n",
              "  (0): Conv2d(1, 64, kernel_size=(7, 7), stride=(2, 2), padding=(3, 3), bias=False)\n",
              "  (1): BatchNorm2d(64, eps=1e-05, momentum=0.1, affine=True, track_running_stats=True)\n",
              "  (2): ReLU(inplace=True)\n",
              "  (3): MaxPool2d(kernel_size=3, stride=2, padding=1, dilation=1, ceil_mode=False)\n",
              "  (4): Sequential(\n",
              "    (0): BasicBlock(\n",
              "      (conv1): Conv2d(64, 64, kernel_size=(3, 3), stride=(1, 1), padding=(1, 1), bias=False)\n",
              "      (bn1): BatchNorm2d(64, eps=1e-05, momentum=0.1, affine=True, track_running_stats=True)\n",
              "      (relu): ReLU(inplace=True)\n",
              "      (conv2): Conv2d(64, 64, kernel_size=(3, 3), stride=(1, 1), padding=(1, 1), bias=False)\n",
              "      (bn2): BatchNorm2d(64, eps=1e-05, momentum=0.1, affine=True, track_running_stats=True)\n",
              "    )\n",
              "    (1): BasicBlock(\n",
              "      (conv1): Conv2d(64, 64, kernel_size=(3, 3), stride=(1, 1), padding=(1, 1), bias=False)\n",
              "      (bn1): BatchNorm2d(64, eps=1e-05, momentum=0.1, affine=True, track_running_stats=True)\n",
              "      (relu): ReLU(inplace=True)\n",
              "      (conv2): Conv2d(64, 64, kernel_size=(3, 3), stride=(1, 1), padding=(1, 1), bias=False)\n",
              "      (bn2): BatchNorm2d(64, eps=1e-05, momentum=0.1, affine=True, track_running_stats=True)\n",
              "    )\n",
              "  )\n",
              "  (5): Sequential(\n",
              "    (0): BasicBlock(\n",
              "      (conv1): Conv2d(64, 128, kernel_size=(3, 3), stride=(2, 2), padding=(1, 1), bias=False)\n",
              "      (bn1): BatchNorm2d(128, eps=1e-05, momentum=0.1, affine=True, track_running_stats=True)\n",
              "      (relu): ReLU(inplace=True)\n",
              "      (conv2): Conv2d(128, 128, kernel_size=(3, 3), stride=(1, 1), padding=(1, 1), bias=False)\n",
              "      (bn2): BatchNorm2d(128, eps=1e-05, momentum=0.1, affine=True, track_running_stats=True)\n",
              "      (downsample): Sequential(\n",
              "        (0): Conv2d(64, 128, kernel_size=(1, 1), stride=(2, 2), bias=False)\n",
              "        (1): BatchNorm2d(128, eps=1e-05, momentum=0.1, affine=True, track_running_stats=True)\n",
              "      )\n",
              "    )\n",
              "    (1): BasicBlock(\n",
              "      (conv1): Conv2d(128, 128, kernel_size=(3, 3), stride=(1, 1), padding=(1, 1), bias=False)\n",
              "      (bn1): BatchNorm2d(128, eps=1e-05, momentum=0.1, affine=True, track_running_stats=True)\n",
              "      (relu): ReLU(inplace=True)\n",
              "      (conv2): Conv2d(128, 128, kernel_size=(3, 3), stride=(1, 1), padding=(1, 1), bias=False)\n",
              "      (bn2): BatchNorm2d(128, eps=1e-05, momentum=0.1, affine=True, track_running_stats=True)\n",
              "    )\n",
              "  )\n",
              "  (6): Sequential(\n",
              "    (0): BasicBlock(\n",
              "      (conv1): Conv2d(128, 256, kernel_size=(3, 3), stride=(2, 2), padding=(1, 1), bias=False)\n",
              "      (bn1): BatchNorm2d(256, eps=1e-05, momentum=0.1, affine=True, track_running_stats=True)\n",
              "      (relu): ReLU(inplace=True)\n",
              "      (conv2): Conv2d(256, 256, kernel_size=(3, 3), stride=(1, 1), padding=(1, 1), bias=False)\n",
              "      (bn2): BatchNorm2d(256, eps=1e-05, momentum=0.1, affine=True, track_running_stats=True)\n",
              "      (downsample): Sequential(\n",
              "        (0): Conv2d(128, 256, kernel_size=(1, 1), stride=(2, 2), bias=False)\n",
              "        (1): BatchNorm2d(256, eps=1e-05, momentum=0.1, affine=True, track_running_stats=True)\n",
              "      )\n",
              "    )\n",
              "    (1): BasicBlock(\n",
              "      (conv1): Conv2d(256, 256, kernel_size=(3, 3), stride=(1, 1), padding=(1, 1), bias=False)\n",
              "      (bn1): BatchNorm2d(256, eps=1e-05, momentum=0.1, affine=True, track_running_stats=True)\n",
              "      (relu): ReLU(inplace=True)\n",
              "      (conv2): Conv2d(256, 256, kernel_size=(3, 3), stride=(1, 1), padding=(1, 1), bias=False)\n",
              "      (bn2): BatchNorm2d(256, eps=1e-05, momentum=0.1, affine=True, track_running_stats=True)\n",
              "    )\n",
              "  )\n",
              "  (7): Sequential(\n",
              "    (0): BasicBlock(\n",
              "      (conv1): Conv2d(256, 512, kernel_size=(3, 3), stride=(2, 2), padding=(1, 1), bias=False)\n",
              "      (bn1): BatchNorm2d(512, eps=1e-05, momentum=0.1, affine=True, track_running_stats=True)\n",
              "      (relu): ReLU(inplace=True)\n",
              "      (conv2): Conv2d(512, 512, kernel_size=(3, 3), stride=(1, 1), padding=(1, 1), bias=False)\n",
              "      (bn2): BatchNorm2d(512, eps=1e-05, momentum=0.1, affine=True, track_running_stats=True)\n",
              "      (downsample): Sequential(\n",
              "        (0): Conv2d(256, 512, kernel_size=(1, 1), stride=(2, 2), bias=False)\n",
              "        (1): BatchNorm2d(512, eps=1e-05, momentum=0.1, affine=True, track_running_stats=True)\n",
              "      )\n",
              "    )\n",
              "    (1): BasicBlock(\n",
              "      (conv1): Conv2d(512, 512, kernel_size=(3, 3), stride=(1, 1), padding=(1, 1), bias=False)\n",
              "      (bn1): BatchNorm2d(512, eps=1e-05, momentum=0.1, affine=True, track_running_stats=True)\n",
              "      (relu): ReLU(inplace=True)\n",
              "      (conv2): Conv2d(512, 512, kernel_size=(3, 3), stride=(1, 1), padding=(1, 1), bias=False)\n",
              "      (bn2): BatchNorm2d(512, eps=1e-05, momentum=0.1, affine=True, track_running_stats=True)\n",
              "    )\n",
              "  )\n",
              "  (8): AdaptiveAvgPool2d(output_size=(1, 1))\n",
              ")"
            ]
          },
          "metadata": {
            "tags": []
          },
          "execution_count": 11
        }
      ]
    },
    {
      "cell_type": "markdown",
      "metadata": {
        "id": "Q0sBK3G2Y1Cl"
      },
      "source": [
        "### Get features"
      ]
    },
    {
      "cell_type": "code",
      "metadata": {
        "colab": {
          "base_uri": "https://localhost:8080/",
          "height": 116,
          "referenced_widgets": [
            "e18d0cbb98df4f4d89bcdd580d8ae7ca",
            "effd8d651e6741b1b0a6b1dda877fbc7",
            "9efcb7f710c24e00bf1f90807358462b",
            "49f940ac8cdb46dd969001bd1b5461cb",
            "1fe7049987cd4cc2b778407fe5c66117",
            "38a62d894f91428b99071377c7f8ee06",
            "babd2f4b4d874daaa46892794370e733",
            "c8b428bc08fe4cc9b09ff1215a4ffb49",
            "3f637be30618497bb66296add6294dca",
            "068bde0b69e74b7ea9989b19bb616dc3",
            "ecfb19285f4a489cade471859fb92352",
            "d75a39a30f574a6dbffef54810ae9440",
            "1a79cade042a43ffa32c1183b2ef3417",
            "51110e1d855a4740b43caed5c29b29f5",
            "084a7a65bb4345ef974916de5ab5bf11",
            "a60498f82ca442629410ce3bdb84b87a"
          ]
        },
        "id": "6obtpFtrY4AJ",
        "outputId": "92ae002f-a38a-4a1f-8486-351b757686a8"
      },
      "source": [
        "train_batch_size = 1\r\n",
        "val_batch_size = 1\r\n",
        "train_loader, val_loader = get_data_loaders(train_batch_size, val_batch_size)\r\n",
        "loss_function = nn.CrossEntropyLoss() # your loss function, cross entropy works well for multi-class problems\r\n",
        "# optimizer\r\n",
        "optimizer = optim.Adadelta(model.parameters())\r\n",
        "losses = []\r\n",
        "batches = len(train_loader)\r\n",
        "val_batches = len(val_loader)\r\n",
        "# loop for every epoch (training + evaluation)\r\n",
        "meta_table = dict()\r\n",
        "feature_result = []\r\n",
        "\r\n",
        "# progress bar\r\n",
        "progress = tqdm(enumerate(train_loader), desc=\"Loss: \", total=batches)\r\n",
        "\r\n",
        "model.eval()\r\n",
        "\r\n",
        "for i, data in progress:\r\n",
        "    if i==30001:\r\n",
        "        break\r\n",
        "    X, y = data[0], data[1]\r\n",
        "    # training step for single batch\r\n",
        "    model.zero_grad()\r\n",
        "    outputs = model(X)\r\n",
        "    feature_result.append(outputs.reshape(-1).tolist())\r\n",
        "    meta_table[i] = outputs.reshape(-1).tolist()\r\n",
        "    \r\n",
        "feature_array = np.array(feature_result)\r\n",
        "np.save('feature_array_full',feature_array )\r\n",
        "feature_array = np.load('feature_array_full.npy', allow_pickle=True)\r\n",
        "# loop for every epoch (training + evaluation)\r\n",
        "meta_t_table = dict()\r\n",
        "feature_t_result = []\r\n",
        "\r\n",
        "# progress bar\r\n",
        "progress = tqdm(enumerate(val_loader), desc=\"Loss: \", total=batches)\r\n",
        "\r\n",
        "model.eval()\r\n",
        "\r\n",
        "for i, data in progress:\r\n",
        "    if i==9000:\r\n",
        "        break\r\n",
        "    X, y = data[0], data[1]\r\n",
        "    # training step for single batch\r\n",
        "    model.zero_grad()\r\n",
        "    outputs_t = model(X)\r\n",
        "    feature_t_result.append(outputs_t.reshape(-1).tolist())\r\n",
        "    meta_t_table[i] = outputs_t.reshape(-1).tolist()\r\n",
        "\r\n",
        "feature_test_array = np.array(feature_t_result)\r\n",
        "# save \r\n",
        "np.save('feature_test_array_full',feature_test_array )\r\n",
        "#load\r\n",
        "feature_test_array = np.load('feature_test_array_full.npy', allow_pickle=True)"
      ],
      "execution_count": 17,
      "outputs": [
        {
          "output_type": "stream",
          "text": [
            "/usr/local/lib/python3.6/dist-packages/torchvision/datasets/mnist.py:58: UserWarning: train_data has been renamed data\n",
            "  warnings.warn(\"train_data has been renamed data\")\n"
          ],
          "name": "stderr"
        },
        {
          "output_type": "display_data",
          "data": {
            "application/vnd.jupyter.widget-view+json": {
              "model_id": "e18d0cbb98df4f4d89bcdd580d8ae7ca",
              "version_minor": 0,
              "version_major": 2
            },
            "text/plain": [
              "HBox(children=(FloatProgress(value=0.0, description='Loss: ', max=60000.0, style=ProgressStyle(description_wid…"
            ]
          },
          "metadata": {
            "tags": []
          }
        },
        {
          "output_type": "display_data",
          "data": {
            "application/vnd.jupyter.widget-view+json": {
              "model_id": "3f637be30618497bb66296add6294dca",
              "version_minor": 0,
              "version_major": 2
            },
            "text/plain": [
              "HBox(children=(FloatProgress(value=0.0, description='Loss: ', max=60000.0, style=ProgressStyle(description_wid…"
            ]
          },
          "metadata": {
            "tags": []
          }
        }
      ]
    },
    {
      "cell_type": "markdown",
      "metadata": {
        "id": "0y67PRMgZOfj"
      },
      "source": [
        "### Build train dataset"
      ]
    },
    {
      "cell_type": "code",
      "metadata": {
        "id": "BxxXor0RZTSj"
      },
      "source": [
        "from typing import List, Dict, Tuple\r\n",
        "def data_generation(instance_index_label: List[Tuple]) -> List[Dict]:\r\n",
        "  \r\n",
        "    bag_size = np.random.randint(3,7,size=len(instance_index_label)//5)\r\n",
        "    data_cp = copy.copy(instance_index_label)\r\n",
        "    np.random.shuffle(data_cp)\r\n",
        "    bags = {}\r\n",
        "    bags_per_instance_labels = {}\r\n",
        "    bags_labels = {}\r\n",
        "    for bag_ind, size in enumerate(bag_size):\r\n",
        "        bags[bag_ind] = []\r\n",
        "        bags_per_instance_labels[bag_ind] = []\r\n",
        "        try:\r\n",
        "            for _ in range(size):\r\n",
        "                inst_ind, lbl = data_cp.pop()\r\n",
        "                bags[bag_ind].append(inst_ind)\r\n",
        "                # simplfy, just use a temporary variable instead of bags_per_instance_labels\r\n",
        "                bags_per_instance_labels[bag_ind].append(lbl)\r\n",
        "            bags_labels[bag_ind] = bag_label_from_instance_labels(bags_per_instance_labels[bag_ind])\r\n",
        "        except:\r\n",
        "            break\r\n",
        "    return bags, bags_labels\r\n",
        "\r\n",
        "def bag_label_from_instance_labels(instance_labels):\r\n",
        "    return int(any(((x==1) for x in instance_labels)))\r\n",
        "\r\n",
        "bag_indices, bag_labels = data_generation(instance_index_label)\r\n",
        "bag_features = {kk: torch.Tensor(feature_array[inds]) for kk, inds in bag_indices.items()}\r\n",
        "\r\n",
        "# save\r\n",
        "import pickle\r\n",
        "pickle.dump(bag_indices, open( \"bag_indices\", \"wb\" ) )\r\n",
        "pickle.dump(bag_labels, open( \"bag_labels\", \"wb\" ) )\r\n",
        "pickle.dump(bag_features, open( \"bag_features\", \"wb\" ) )\r\n",
        "#load\r\n",
        "import pickle\r\n",
        "bag_indices = pickle.load( open( \"bag_indices\", \"rb\" ) )\r\n",
        "bag_labels = pickle.load( open( \"bag_labels\", \"rb\" ) )\r\n",
        "bag_features = pickle.load( open( \"bag_features\", \"rb\" ) )"
      ],
      "execution_count": 18,
      "outputs": []
    },
    {
      "cell_type": "markdown",
      "metadata": {
        "id": "7HGi5HE5ZopZ"
      },
      "source": [
        "### Generate test dataset"
      ]
    },
    {
      "cell_type": "code",
      "metadata": {
        "id": "VbK5XA0wZW0Q"
      },
      "source": [
        "bag_t_indices, bag_t_labels = data_generation(instance_index_label_test)\r\n",
        "bag_t_features = {kk: torch.Tensor(feature_test_array[inds]) for kk, inds in bag_t_indices.items()}\r\n",
        "pickle.dump(bag_t_indices, open( \"bag_t_indices\", \"wb\" ) )\r\n",
        "pickle.dump(bag_t_labels, open( \"bag_t_labels\", \"wb\" ) )\r\n",
        "pickle.dump(bag_t_features, open( \"bag_t_features\", \"wb\" ) )\r\n",
        "bag_t_indices = pickle.load( open( \"bag_t_indices\", \"rb\" ) )\r\n",
        "bag_t_labels = pickle.load( open( \"bag_t_labels\", \"rb\" ) )\r\n",
        "bag_t_features = pickle.load( open( \"bag_t_features\", \"rb\" ) )"
      ],
      "execution_count": 19,
      "outputs": []
    },
    {
      "cell_type": "markdown",
      "metadata": {
        "id": "8wEhaUKZZ1F2"
      },
      "source": [
        "### Multi instance leaning on MNIST"
      ]
    },
    {
      "cell_type": "code",
      "metadata": {
        "id": "Se70Iyl2Z43g"
      },
      "source": [
        "from torch.utils.data import Dataset\r\n",
        "class Transform_data(Dataset):\r\n",
        "\r\n",
        "    def __init__(self, data, transform=None):\r\n",
        "        self.transform = transform\r\n",
        "        self.data = data\r\n",
        "        \r\n",
        "    def __getitem__(self, index):\r\n",
        "        tensor = self.data[index][0]\r\n",
        "        if self.transform is not None:\r\n",
        "            tensor = self.transform(tensor)\r\n",
        "        return (tensor, self.data[index][1])\r\n",
        "\r\n",
        "    def __len__(self):\r\n",
        "        return len(self.data)"
      ],
      "execution_count": 20,
      "outputs": []
    },
    {
      "cell_type": "code",
      "metadata": {
        "id": "aMczSyDkaKFG"
      },
      "source": [
        "train_data = [(bag_features[i],bag_labels[i]) for i in range(len(bag_features))]\r\n",
        "def pad_tensor(data:list, max_number_instance) -> list:\r\n",
        "    \"\"\"\r\n",
        "    Since our bag has different sizes, we need to pad each tensor to have the same shape (max: 7).\r\n",
        "    We will look through each one instance and look at the shape of the tensor, and then we will pad 7-n \r\n",
        "    to the existing tensor where n is the number of instances in the bag.\r\n",
        "    The function will return a padded data set.\"\"\"\r\n",
        "    new_data = []\r\n",
        "    for bag_index in range(len(data)):\r\n",
        "        tensor_size = len(data[bag_index][0])\r\n",
        "        pad_size = max_number_instance - tensor_size\r\n",
        "        p2d = (0,0, 0, pad_size)\r\n",
        "        padded = nn.functional.pad(data[bag_index][0], p2d, 'constant', 0)\r\n",
        "        new_data.append((padded, data[bag_index][1]))\r\n",
        "    return new_data"
      ],
      "execution_count": 21,
      "outputs": []
    },
    {
      "cell_type": "code",
      "metadata": {
        "id": "fzb_SI88aQgn"
      },
      "source": [
        "max_number_instance = 7\r\n",
        "padded_train = pad_tensor(train_data, max_number_instance)\r\n",
        "test_data = [(bag_t_features[i],bag_t_labels[i]) for i in range(len(bag_t_features))]\r\n",
        "padded_test = pad_tensor(test_data, max_number_instance)\r\n",
        "\r\n",
        "def get_data_loaders(train_data, test_data, train_batch_size, val_batch_size):\r\n",
        "    train_loader = DataLoader(train_data, batch_size=train_batch_size, shuffle=True)\r\n",
        "    val_loader = DataLoader(test_data, batch_size=val_batch_size, shuffle=False)\r\n",
        "    return train_loader, val_loader\r\n",
        "\r\n",
        "train_loader,valid_loader = get_data_loaders(padded_train, padded_test, 1, 1)\r\n",
        "train_batch_size = 1\r\n",
        "val_batch_size = 1"
      ],
      "execution_count": 22,
      "outputs": []
    },
    {
      "cell_type": "markdown",
      "metadata": {
        "id": "HrsFsJajafXw"
      },
      "source": [
        "### Aggregation model"
      ]
    },
    {
      "cell_type": "code",
      "metadata": {
        "id": "l_Kt1kD-aki5"
      },
      "source": [
        "class SoftMaxMeanSimple(torch.nn.Module):\r\n",
        "    def __init__(self, n, n_inst, dim=0):\r\n",
        "        \"\"\"\r\n",
        "        if dim==1:\r\n",
        "            given a tensor `x` with dimensions [N * M],\r\n",
        "            where M -- dimensionality of the featur vector\r\n",
        "                       (number of features per instance)\r\n",
        "                  N -- number of instances\r\n",
        "            initialize with `AggModule(M)`\r\n",
        "            returns:\r\n",
        "            - weighted result: [M]\r\n",
        "            - gate: [N]\r\n",
        "        if dim==0:\r\n",
        "            ...\r\n",
        "        \"\"\"\r\n",
        "        super(SoftMaxMeanSimple, self).__init__()\r\n",
        "        self.dim = dim\r\n",
        "        self.gate = torch.nn.Softmax(dim=self.dim)      \r\n",
        "        self.mdl_instance_transform = nn.Sequential(\r\n",
        "                            nn.Linear(n, n_inst),\r\n",
        "                            nn.LeakyReLU(),\r\n",
        "                            nn.Linear(n_inst, n),\r\n",
        "                            nn.LeakyReLU(),\r\n",
        "                            )\r\n",
        "    def forward(self, x):\r\n",
        "        z = self.mdl_instance_transform(x)\r\n",
        "        if self.dim==0:\r\n",
        "            z = z.view((z.shape[0],1)).sum(1)\r\n",
        "        elif self.dim==1:\r\n",
        "            z = z.view((1, z.shape[1])).sum(0)\r\n",
        "        gate_ = self.gate(z)\r\n",
        "        res = torch.sum(x* gate_, self.dim)\r\n",
        "        return res, gate_"
      ],
      "execution_count": 23,
      "outputs": []
    },
    {
      "cell_type": "code",
      "metadata": {
        "id": "0idzARTnbAmg"
      },
      "source": [
        "class AttentionSoftMax(torch.nn.Module):\r\n",
        "    def __init__(self, in_features = 3, out_features = None):\r\n",
        "        \"\"\"\r\n",
        "        given a tensor `x` with dimensions [N * M],\r\n",
        "        where M -- dimensionality of the featur vector\r\n",
        "                   (number of features per instance)\r\n",
        "              N -- number of instances\r\n",
        "        initialize with `AggModule(M)`\r\n",
        "        returns:\r\n",
        "        - weighted result: [M]\r\n",
        "        - gate: [N]\r\n",
        "        \"\"\"\r\n",
        "        super(AttentionSoftMax, self).__init__()\r\n",
        "        self.otherdim = ''\r\n",
        "        if out_features is None:\r\n",
        "            out_features = in_features\r\n",
        "        self.layer_linear_tr = nn.Linear(in_features, out_features)\r\n",
        "        self.activation = nn.LeakyReLU()\r\n",
        "        self.layer_linear_query = nn.Linear(out_features, 1)\r\n",
        "        \r\n",
        "    def forward(self, x):\r\n",
        "        keys = self.layer_linear_tr(x)\r\n",
        "        keys = self.activation(keys)\r\n",
        "        attention_map_raw = self.layer_linear_query(keys)[...,0]\r\n",
        "        attention_map = nn.Softmax(dim=-1)(attention_map_raw)\r\n",
        "        result = torch.einsum(f'{self.otherdim}i,{self.otherdim}ij->{self.otherdim}j', attention_map, x)\r\n",
        "        return result, attention_map"
      ],
      "execution_count": 24,
      "outputs": []
    },
    {
      "cell_type": "markdown",
      "metadata": {
        "id": "3EVt65AybEFB"
      },
      "source": [
        "### NN model"
      ]
    },
    {
      "cell_type": "code",
      "metadata": {
        "id": "pUGA5uaObMDM"
      },
      "source": [
        "class NoisyAnd(torch.nn.Module):\r\n",
        "    def __init__(self, a=10, dims=[1,2]):\r\n",
        "        super(NoisyAnd, self).__init__()\r\n",
        "\r\n",
        "        self.a = a\r\n",
        "        self.b = torch.nn.Parameter(torch.tensor(0.01))\r\n",
        "        self.dims =dims\r\n",
        "        self.sigmoid = nn.Sigmoid()\r\n",
        "    def forward(self, x):\r\n",
        "\r\n",
        "        mean = torch.mean(x, self.dims, True)\r\n",
        "        res = (self.sigmoid(self.a * (mean - self.b)) - self.sigmoid(-self.a * self.b)) / (\r\n",
        "              self.sigmoid(self.a * (1 - self.b)) - self.sigmoid(-self.a * self.b))\r\n",
        "        return res\r\n",
        "    \r\n",
        "\r\n",
        "\r\n",
        "class NN(torch.nn.Module):\r\n",
        "\r\n",
        "    def __init__(self, n=512, n_mid = 1024,\r\n",
        "                 n_out=1, dropout=0.2,\r\n",
        "                 scoring = None,\r\n",
        "                ):\r\n",
        "        super(NN, self).__init__()\r\n",
        "        self.linear1 = torch.nn.Linear(n, n_mid)\r\n",
        "        self.non_linearity = torch.nn.LeakyReLU()\r\n",
        "        self.linear2 = torch.nn.Linear(n_mid, n_out)\r\n",
        "        self.dropout = torch.nn.Dropout(dropout)\r\n",
        "        if scoring:\r\n",
        "            self.scoring = scoring\r\n",
        "        else:\r\n",
        "            self.scoring = torch.nn.Softmax() if n_out>1 else torch.nn.Sigmoid()\r\n",
        "        \r\n",
        "    def forward(self, x):\r\n",
        "        z = self.linear1(x)\r\n",
        "        z = self.non_linearity(z)\r\n",
        "        z = self.dropout(z)\r\n",
        "        z = self.linear2(z)\r\n",
        "        y_pred = self.scoring(z)\r\n",
        "        return y_pred\r\n",
        "    \r\n",
        "\r\n",
        "class LogisticRegression(torch.nn.Module):\r\n",
        "    def __init__(self, n=512, n_out=1):\r\n",
        "        super(LogisticRegression, self).__init__()\r\n",
        "        self.linear = torch.nn.Linear(n, n_out)\r\n",
        "        self.scoring = torch.nn.Softmax() if n_out>1 else torch.nn.Sigmoid()\r\n",
        "\r\n",
        "    def forward(self, x):\r\n",
        "        z = self.linear(x)\r\n",
        "        y_pred = self.scoring(z)\r\n",
        "        return y_pred\r\n",
        "\r\n",
        "    \r\n",
        "def regularization_loss(params,\r\n",
        "                        reg_factor = 0.005,\r\n",
        "                        reg_alpha = 0.5):\r\n",
        "    params = [pp for pp in params if len(pp.shape)>1]\r\n",
        "    l1_reg = nn.L1Loss()\r\n",
        "    l2_reg = nn.MSELoss()\r\n",
        "    loss_reg =0\r\n",
        "    for pp in params:\r\n",
        "        loss_reg+=reg_factor*((1-reg_alpha)*l1_reg(pp, target=torch.zeros_like(pp)) +\\\r\n",
        "                           reg_alpha*l2_reg(pp, target=torch.zeros_like(pp)))\r\n",
        "    return loss_reg\r\n",
        "\r\n",
        "class MIL_NN(torch.nn.Module):\r\n",
        "\r\n",
        "    def __init__(self, n=7*512,  n_mid=7168, n_out=1, \r\n",
        "                 n_inst=None, dropout=0.1,\r\n",
        "                 noisy_a=4,\r\n",
        "                 agg = NoisyAnd(a=4, dims=[0]),\r\n",
        "                ):\r\n",
        "        super(MIL_NN, self).__init__()\r\n",
        "        if agg is None:\r\n",
        "            print(\"agg is called \")\r\n",
        "            agg = NoisyAnd(a=noisy_a, dims=[0])\r\n",
        "        if n_inst is None:\r\n",
        "            self.mdl_instance = agg\r\n",
        "            n_inst = n\r\n",
        "        else:\r\n",
        "            self.mdl_instance = nn.Sequential(\r\n",
        "                            nn.Linear(n, n_inst),\r\n",
        "                            nn.LeakyReLU(),\r\n",
        "                            agg,\r\n",
        "                            )\r\n",
        "        if n_mid == 0:\r\n",
        "            self.mdl_bag = LogisticRegression(n_inst, n_out)\r\n",
        "        else:\r\n",
        "            self.mdl_bag = NN(n_inst, n_mid, n_out, dropout=dropout)\r\n",
        "        \r\n",
        "    def forward(self, bag_feature):\r\n",
        "\r\n",
        "        y_pred = self.mdl_bag(bag_feature)\r\n",
        "        return y_pred"
      ],
      "execution_count": 25,
      "outputs": []
    },
    {
      "cell_type": "markdown",
      "metadata": {
        "id": "5anOiownbTk0"
      },
      "source": [
        "### Helper function"
      ]
    },
    {
      "cell_type": "code",
      "metadata": {
        "id": "NqwLOiJhbYjs"
      },
      "source": [
        "def calculate_metric(metric_fn, true_y, pred_y):\r\n",
        "    # multi class problems need to have averaging method\r\n",
        "    if \"average\" in inspect.getfullargspec(metric_fn).args:\r\n",
        "        return metric_fn(true_y, pred_y, average=\"macro\")\r\n",
        "    else:\r\n",
        "        return metric_fn(true_y, pred_y)\r\n",
        "    \r\n",
        "def print_scores(p, r, f1, a, batch_size):\r\n",
        "    # just an utility printing function\r\n",
        "    for name, scores in zip((\"precision\", \"recall\", \"F1\", \"accuracy\"), (p, r, f1, a)):\r\n",
        "        print(f\"\\t{name.rjust(14, ' ')}: {sum(scores)/batch_size:.4f}\")"
      ],
      "execution_count": 26,
      "outputs": []
    },
    {
      "cell_type": "markdown",
      "metadata": {
        "id": "tYcWPZI_bbuj"
      },
      "source": [
        "### Training and testing model"
      ]
    },
    {
      "cell_type": "code",
      "metadata": {
        "id": "_ec7oO82x_VX"
      },
      "source": [
        "import numpy as np\r\n",
        "start_ts = time.time()\r\n",
        "device = torch.device(\"cuda:0\" if torch.cuda.is_available() else \"cpu\")\r\n",
        "\r\n",
        "lr0 = 1e-4\r\n",
        "\r\n",
        "# model:\r\n",
        "model = MIL_NN().to(device)\r\n",
        "\r\n",
        "# params you need to specify:\r\n",
        "epochs = 1\r\n",
        "train_loader, val_loader = get_data_loaders(padded_train, padded_test, 1, 1)\r\n",
        "loss_function = torch.nn.BCELoss(reduction='mean') # your loss function, cross entropy works well for multi-class problems\r\n",
        "\r\n",
        "\r\n",
        "#optimizer = optim.Adadelta(model.parameters())\r\n",
        "optimizer = optim.SGD(model.parameters(), lr=lr0, momentum=0.9)\r\n",
        "\r\n",
        "losses = []\r\n",
        "batches = len(train_loader)\r\n",
        "val_batches = len(val_loader)\r\n",
        "\r\n",
        "# loop for every epoch (training + evaluation)\r\n",
        "for epoch in range(epochs):\r\n",
        "    total_loss = 0\r\n",
        "\r\n",
        "    # progress bar (works in Jupyter notebook too!)\r\n",
        "    progress = tqdm(enumerate(train_loader), desc=\"Loss: \", total=batches)\r\n",
        "\r\n",
        "    # ----------------- TRAINING  -------------------- \r\n",
        "    # set model to training\r\n",
        "    model.train()\r\n",
        "    for i, data in progress:\r\n",
        "        X, y = data[0].to(device), data[1].to(device)\r\n",
        "        X = X.reshape([1,7*512])\r\n",
        "        #y = y.type(torch.cuda.FloatTensor)\r\n",
        "        # training step for single batch\r\n",
        "        model.zero_grad() # to make sure that all the grads are 0 \r\n",
        "        \"\"\"\r\n",
        "        model.zero_grad() and optimizer.zero_grad() are the same \r\n",
        "        IF all your model parameters are in that optimizer. \r\n",
        "        I found it is safer to call model.zero_grad() to make sure all grads are zero, \r\n",
        "        e.g. if you have two or more optimizers for one model.\r\n",
        "\r\n",
        "        \"\"\"\r\n",
        "        outputs = model(X) # forward\r\n",
        "        loss = loss_function(outputs, y) # get loss\r\n",
        "        loss.backward() # accumulates the gradient (by addition) for each parameter.\r\n",
        "        optimizer.step() # performs a parameter update based on the current gradient \r\n",
        "\r\n",
        "        # getting training quality data\r\n",
        "        current_loss = loss.item()\r\n",
        "        total_loss += current_loss\r\n",
        "\r\n",
        "        # updating progress bar\r\n",
        "        progress.set_description(\"Loss: {:.4f}\".format(total_loss/(i+1)))\r\n",
        "        \r\n",
        "    # releasing unceseccary memory in GPU\r\n",
        "    if torch.cuda.is_available():\r\n",
        "        torch.cuda.empty_cache()\r\n",
        "    \r\n",
        "    # ----------------- VALIDATION  ----------------- \r\n",
        "    val_losses = 0\r\n",
        "    precision, recall, f1, accuracy = [], [], [], []\r\n",
        "    \r\n",
        "    # set model to evaluating (testing)\r\n",
        "    model.eval()\r\n",
        "    with torch.no_grad():\r\n",
        "        for i, data in enumerate(val_loader):\r\n",
        "            X, y = data[0].to(device), data[1].to(device)\r\n",
        "            X = X.reshape([1,7*512])\r\n",
        "            #y = y.type(torch.FloatTensor)\r\n",
        "            outputs = model(X) # this get's the prediction from the network\r\n",
        "            prediced_classes =outputs.detach().round()\r\n",
        "            #y_pred.extend(prediced_classes.tolist())\r\n",
        "            val_losses += loss_function(outputs, y)\r\n",
        "            \r\n",
        "            # calculate P/R/F1/A metrics for batch\r\n",
        "            for acc, metric in zip((precision, recall, f1, accuracy), \r\n",
        "                                   (precision_score, recall_score, f1_score, accuracy_score)):\r\n",
        "                acc.append(\r\n",
        "                    calculate_metric(metric, y.cpu(), prediced_classes.cpu())\r\n",
        "                )\r\n",
        "          \r\n",
        "    print(f\"Epoch {epoch+1}/{epochs}, training loss: {total_loss/batches}, validation loss: {val_losses/val_batches}\")\r\n",
        "    print_scores(precision, recall, f1, accuracy, val_batches)\r\n",
        "    losses.append(total_loss/batches) # for plotting learning curve\r\n",
        "print(f\"Training time: {time.time()-start_ts}s\")"
      ],
      "execution_count": null,
      "outputs": []
    }
  ]
}